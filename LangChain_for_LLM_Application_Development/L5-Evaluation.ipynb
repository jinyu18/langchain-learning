{
 "cells": [
  {
   "cell_type": "markdown",
   "id": "52824b89-532a-4e54-87e9-1410813cd39e",
   "metadata": {},
   "source": [
    "# LangChain: Evaluation\n",
    "\n",
    "## Outline:\n",
    "\n",
    "* Example generation\n",
    "* Manual evaluation (and debuging)\n",
    "* LLM-assisted evaluation"
   ]
  },
  {
   "cell_type": "code",
   "execution_count": 1,
   "id": "b7ed03ed-1322-49e3-b2a2-33e94fb592ef",
   "metadata": {
    "height": 81,
    "tags": []
   },
   "outputs": [],
   "source": [
    "import os\n",
    "\n",
    "from dotenv import load_dotenv, find_dotenv\n",
    "_ = load_dotenv(find_dotenv()) # read local .env file"
   ]
  },
  {
   "cell_type": "markdown",
   "id": "28008949",
   "metadata": {},
   "source": [
    "## Create our QandA application"
   ]
  },
  {
   "cell_type": "code",
   "execution_count": 2,
   "id": "974acf8e-8f88-42de-88f8-40a82cb58e8b",
   "metadata": {
    "height": 98
   },
   "outputs": [],
   "source": [
    "from langchain.chains import RetrievalQA\n",
    "from langchain.chat_models import AzureChatOpenAI\n",
    "from langchain.document_loaders import CSVLoader\n",
    "from langchain.indexes import VectorstoreIndexCreator\n",
    "from langchain.vectorstores import DocArrayInMemorySearch"
   ]
  },
  {
   "cell_type": "code",
   "execution_count": 5,
   "id": "9ec1106d",
   "metadata": {
    "height": 64
   },
   "outputs": [],
   "source": [
    "file = 'OutdoorClothingCatalog_3.csv'\n",
    "loader = CSVLoader(file_path=file)\n",
    "data = loader.load()"
   ]
  },
  {
   "cell_type": "code",
   "execution_count": 7,
   "id": "34c01f78",
   "metadata": {},
   "outputs": [
    {
     "name": "stderr",
     "output_type": "stream",
     "text": [
      "/Library/Frameworks/Python.framework/Versions/3.12/lib/python3.12/site-packages/langchain_core/_api/deprecation.py:117: LangChainDeprecationWarning: The class `langchain_community.embeddings.azure_openai.AzureOpenAIEmbeddings` was deprecated in langchain-community 0.1.0 and will be removed in 0.2.0. An updated version of the class exists in the langchain-openai package and should be used instead. To use it run `pip install -U langchain-openai` and import as `from langchain_openai import AzureOpenAIEmbeddings`.\n",
      "  warn_deprecated(\n"
     ]
    },
    {
     "data": {
      "text/plain": [
       "AzureOpenAIEmbeddings(client=<openai.resources.embeddings.Embeddings object at 0x137f5ecc0>, async_client=<openai.resources.embeddings.AsyncEmbeddings object at 0x137f3d550>, model='text-embedding-ada-002', deployment='text-embedding-ada-002-felix', openai_api_version='2023-12-01-preview', openai_api_base=None, openai_api_type='azure', openai_proxy='', embedding_ctx_length=8191, openai_api_key='f49b792a6e60455f9237e607c9902d5b', openai_organization=None, allowed_special=set(), disallowed_special='all', chunk_size=16, max_retries=2, request_timeout=None, headers=None, tiktoken_enabled=True, tiktoken_model_name=None, show_progress_bar=False, model_kwargs={}, skip_empty=False, default_headers=None, default_query=None, retry_min_seconds=4, retry_max_seconds=20, http_client=None, azure_endpoint='https://openai-felix.openai.azure.com', azure_ad_token=None, azure_ad_token_provider=None, validate_base_url=True)"
      ]
     },
     "execution_count": 7,
     "metadata": {},
     "output_type": "execute_result"
    }
   ],
   "source": [
    "from langchain.embeddings import AzureOpenAIEmbeddings\n",
    "embeddings = AzureOpenAIEmbeddings(\n",
    "    azure_deployment=\"text-embedding-ada-002-felix\",\n",
    "    openai_api_version=\"2023-12-01-preview\",\n",
    ")\n",
    "embeddings"
   ]
  },
  {
   "cell_type": "code",
   "execution_count": 8,
   "id": "b31c218f",
   "metadata": {
    "height": 64
   },
   "outputs": [],
   "source": [
    "index = VectorstoreIndexCreator(\n",
    "    vectorstore_cls=DocArrayInMemorySearch,\n",
    "    embedding=embeddings,\n",
    ").from_loaders([loader])"
   ]
  },
  {
   "cell_type": "code",
   "execution_count": 10,
   "id": "a2006054",
   "metadata": {
    "height": 183
   },
   "outputs": [],
   "source": [
    "llm = AzureChatOpenAI(temperature=0.0, openai_api_version=\"2023-12-01-preview\", azure_deployment=\"gpt-35-turbo-felix\", openai_api_key=os.getenv(\"AZURE_OPENAI_KEY\"))\n",
    "\n",
    "qa = RetrievalQA.from_chain_type(\n",
    "    llm=llm, \n",
    "    chain_type=\"stuff\", \n",
    "    retriever=index.vectorstore.as_retriever(), \n",
    "    verbose=True,\n",
    "    chain_type_kwargs = {\n",
    "        \"document_separator\": \"<<<<>>>>>\"\n",
    "    }\n",
    ")"
   ]
  },
  {
   "cell_type": "markdown",
   "id": "791ebd73",
   "metadata": {},
   "source": [
    "### Coming up with test datapoints"
   ]
  },
  {
   "cell_type": "code",
   "execution_count": 15,
   "id": "fb04a0f9",
   "metadata": {
    "height": 30
   },
   "outputs": [
    {
     "data": {
      "text/plain": [
       "Document(page_content=\": 2\\nname: Infant and Toddler Girls' Coastal Chill Swimsuit, Two-Piece\\ndescription: She'll love the bright colors, ruffles and exclusive whimsical prints of this toddler's two-piece swimsuit! Our four-way-stretch and chlorine-resistant fabric keeps its shape and resists snags. The UPF 50+ rated fabric provides the highest rated sun protection possible, blocking 98% of the sun's harmful rays. The crossover no-slip straps and fully lined bottom ensure a secure fit and maximum coverage. Machine wash and line dry for best results. Imported.\", metadata={'source': 'OutdoorClothingCatalog_3.csv', 'row': 2})"
      ]
     },
     "execution_count": 15,
     "metadata": {},
     "output_type": "execute_result"
    }
   ],
   "source": [
    "data[2]"
   ]
  },
  {
   "cell_type": "code",
   "execution_count": 16,
   "id": "fe4a88c2",
   "metadata": {
    "height": 30
   },
   "outputs": [
    {
     "data": {
      "text/plain": [
       "Document(page_content=\": 319\\nname: Men's Tropical Breeze Pants\\ndescription: These Men's cargo hiking pants are adventure-ready in a cool, moisture-wicking fabric that has 50+ UPF sunblock woven right in. Size & Fit - Classic Fit: Sits at the natural waist and trim, with a traditional straight leg. Fabric & Care - 100% nylon wicks moisture and resists wrinkles. Built-in SunSmart™ UPF 50+ rated – the highest rated sun protection possible. Additional Features - Button front with zip fly. Adjustable nylon belt. Two front slash pockets, two cargo pockets, two rear pockets. Zippered security pocket. Elastic inserts in waist. Imported.Sun Protection That Won't Wear Off - Our high-performance fabric provides SPF 50+ sun protection, blocking 98% of the sun's harmful rays.\", metadata={'source': 'OutdoorClothingCatalog_3.csv', 'row': 3})"
      ]
     },
     "execution_count": 16,
     "metadata": {},
     "output_type": "execute_result"
    }
   ],
   "source": [
    "data[3]"
   ]
  },
  {
   "cell_type": "markdown",
   "id": "8d548aef",
   "metadata": {},
   "source": [
    "### Hard-coded examples"
   ]
  },
  {
   "cell_type": "code",
   "execution_count": 57,
   "id": "c2d59bf2",
   "metadata": {
    "height": 217
   },
   "outputs": [],
   "source": [
    "examples = [\n",
    "    {\n",
    "        \"query\": \"Please suggest a pant with sunblock\",\n",
    "        \"answer\": \"The Men's Tropical Breeze Pants have 50+ UPF sunblock woven right in. They are made of 100% nylon that wicks moisture and resists wrinkles. They also have a classic fit and multiple pockets for storage.\"\n",
    "    }\n",
    "]"
   ]
  },
  {
   "cell_type": "markdown",
   "id": "c7ce3e4f",
   "metadata": {},
   "source": [
    "### LLM-Generated examples"
   ]
  },
  {
   "cell_type": "code",
   "execution_count": 18,
   "id": "d44f8376",
   "metadata": {
    "height": 47
   },
   "outputs": [],
   "source": [
    "from langchain.evaluation.qa import QAGenerateChain\n"
   ]
  },
  {
   "cell_type": "code",
   "execution_count": 20,
   "id": "34e87816",
   "metadata": {
    "height": 30
   },
   "outputs": [],
   "source": [
    "example_gen_chain = QAGenerateChain.from_llm(AzureChatOpenAI(temperature=0.0, openai_api_version=\"2023-12-01-preview\", azure_deployment=\"gpt-35-turbo-felix\", openai_api_key=os.getenv(\"AZURE_OPENAI_KEY\")))"
   ]
  },
  {
   "cell_type": "code",
   "execution_count": 21,
   "id": "62abae09",
   "metadata": {
    "height": 64
   },
   "outputs": [
    {
     "name": "stderr",
     "output_type": "stream",
     "text": [
      "/Library/Frameworks/Python.framework/Versions/3.12/lib/python3.12/site-packages/langchain/chains/llm.py:344: UserWarning: The apply_and_parse method is deprecated, instead pass an output parser directly to LLMChain.\n",
      "  warnings.warn(\n"
     ]
    }
   ],
   "source": [
    "new_examples = example_gen_chain.apply_and_parse(\n",
    "    [{\"doc\": t} for t in data[:5]]\n",
    ")"
   ]
  },
  {
   "cell_type": "code",
   "execution_count": 33,
   "id": "2c744d86",
   "metadata": {},
   "outputs": [
    {
     "data": {
      "text/plain": [
       "[{'qa_pairs': {'query': \"What is the weight of one pair of Women's Campside Oxfords?\",\n",
       "   'answer': \"The approximate weight of one pair of Women's Campside Oxfords is 1 lb. 1 oz.\"}},\n",
       " {'qa_pairs': {'query': 'What are the dimensions of the small and medium Recycled Waterhog dog mats?',\n",
       "   'answer': 'The small Recycled Waterhog dog mat has dimensions of 18\" x 28\" and the medium has dimensions of 22.5\" x 34.5\".'}},\n",
       " {'qa_pairs': {'query': \"What are some features of the Infant and Toddler Girls' Coastal Chill Swimsuit?\",\n",
       "   'answer': \"The swimsuit has bright colors, ruffles, and exclusive whimsical prints. It is made of four-way-stretch and chlorine-resistant fabric that keeps its shape and resists snags. The swimsuit is also UPF 50+ rated, providing the highest rated sun protection possible, blocking 98% of the sun's harmful rays. The crossover no-slip straps and fully lined bottom ensure a secure fit and maximum coverage. The swimsuit can be machine washed and line dried for best results.\"}},\n",
       " {'qa_pairs': {'query': \"What is the fabric of the Men's Tropical Breeze Pants and what is its sun protection rating?\",\n",
       "   'answer': \"The Men's Tropical Breeze Pants are made of 100% nylon fabric that wicks moisture and resists wrinkles. The fabric has a built-in SunSmart™ UPF 50+ rating, which is the highest rated sun protection possible.\"}}]"
      ]
     },
     "execution_count": 33,
     "metadata": {},
     "output_type": "execute_result"
    }
   ],
   "source": [
    "new_examples"
   ]
  },
  {
   "cell_type": "code",
   "execution_count": 26,
   "id": "97ab28b5",
   "metadata": {
    "height": 30
   },
   "outputs": [
    {
     "data": {
      "text/plain": [
       "{'qa_pairs': {'query': \"What is the weight of one pair of Women's Campside Oxfords?\",\n",
       "  'answer': \"The approximate weight of one pair of Women's Campside Oxfords is 1 lb. 1 oz.\"}}"
      ]
     },
     "execution_count": 26,
     "metadata": {},
     "output_type": "execute_result"
    }
   ],
   "source": [
    "new_examples[0]"
   ]
  },
  {
   "cell_type": "code",
   "execution_count": 23,
   "id": "0ebe4228",
   "metadata": {
    "height": 30
   },
   "outputs": [
    {
     "data": {
      "text/plain": [
       "Document(page_content=\": 0\\nname: Women's Campside Oxfords\\ndescription: This ultracomfortable lace-to-toe Oxford boasts a super-soft canvas, thick cushioning, and quality construction for a broken-in feel from the first time you put them on. \\n\\nSize & Fit: Order regular shoe size. For half sizes not offered, order up to next whole size. \\n\\nSpecs: Approx. weight: 1 lb.1 oz. per pair. \\n\\nConstruction: Soft canvas material for a broken-in feel and look. Comfortable EVA innersole with Cleansport NXT® antimicrobial odor control. Vintage hunt, fish and camping motif on innersole. Moderate arch contour of innersole. EVA foam midsole for cushioning and support. Chain-tread-inspired molded rubber outsole with modified chain-tread pattern. Imported. \\n\\nQuestions? Please contact us for any inquiries.\", metadata={'source': 'OutdoorClothingCatalog_3.csv', 'row': 0})"
      ]
     },
     "execution_count": 23,
     "metadata": {},
     "output_type": "execute_result"
    }
   ],
   "source": [
    "data[0]"
   ]
  },
  {
   "cell_type": "markdown",
   "id": "faf25f2f",
   "metadata": {},
   "source": [
    "### Combine examples"
   ]
  },
  {
   "cell_type": "code",
   "execution_count": 58,
   "id": "959de5af",
   "metadata": {},
   "outputs": [],
   "source": [
    "for ex in new_examples:\n",
    "    examples.append(ex[\"qa_pairs\"])"
   ]
  },
  {
   "cell_type": "code",
   "execution_count": 59,
   "id": "c488497f",
   "metadata": {},
   "outputs": [
    {
     "data": {
      "text/plain": [
       "[{'query': 'Please suggest a pant with sunblock',\n",
       "  'answer': \"The Men's Tropical Breeze Pants have 50+ UPF sunblock woven right in. They are made of 100% nylon that wicks moisture and resists wrinkles. They also have a classic fit and multiple pockets for storage.\"},\n",
       " {'query': \"What is the weight of one pair of Women's Campside Oxfords?\",\n",
       "  'answer': \"The approximate weight of one pair of Women's Campside Oxfords is 1 lb. 1 oz.\"},\n",
       " {'query': 'What are the dimensions of the small and medium Recycled Waterhog dog mats?',\n",
       "  'answer': 'The small Recycled Waterhog dog mat has dimensions of 18\" x 28\" and the medium has dimensions of 22.5\" x 34.5\".'},\n",
       " {'query': \"What are some features of the Infant and Toddler Girls' Coastal Chill Swimsuit?\",\n",
       "  'answer': \"The swimsuit has bright colors, ruffles, and exclusive whimsical prints. It is made of four-way-stretch and chlorine-resistant fabric that keeps its shape and resists snags. The swimsuit is also UPF 50+ rated, providing the highest rated sun protection possible, blocking 98% of the sun's harmful rays. The crossover no-slip straps and fully lined bottom ensure a secure fit and maximum coverage. The swimsuit can be machine washed and line dried for best results.\"},\n",
       " {'query': \"What is the fabric of the Men's Tropical Breeze Pants and what is its sun protection rating?\",\n",
       "  'answer': \"The Men's Tropical Breeze Pants are made of 100% nylon fabric that wicks moisture and resists wrinkles. The fabric has a built-in SunSmart™ UPF 50+ rating, which is the highest rated sun protection possible.\"}]"
      ]
     },
     "execution_count": 59,
     "metadata": {},
     "output_type": "execute_result"
    }
   ],
   "source": [
    "examples"
   ]
  },
  {
   "cell_type": "code",
   "execution_count": 36,
   "id": "9cdf5cf5",
   "metadata": {
    "height": 30
   },
   "outputs": [
    {
     "name": "stdout",
     "output_type": "stream",
     "text": [
      "\u001b[32;1m\u001b[1;3m[chain/start]\u001b[0m \u001b[1m[1:chain:RetrievalQA] Entering Chain run with input:\n",
      "\u001b[0m{\n",
      "  \"query\": \"Please suggest a pant with sunblock\"\n",
      "}\n"
     ]
    },
    {
     "name": "stdout",
     "output_type": "stream",
     "text": [
      "\u001b[32;1m\u001b[1;3m[chain/start]\u001b[0m \u001b[1m[1:chain:RetrievalQA > 3:chain:StuffDocumentsChain] Entering Chain run with input:\n",
      "\u001b[0m[inputs]\n",
      "\u001b[32;1m\u001b[1;3m[chain/start]\u001b[0m \u001b[1m[1:chain:RetrievalQA > 3:chain:StuffDocumentsChain > 4:chain:LLMChain] Entering Chain run with input:\n",
      "\u001b[0m{\n",
      "  \"question\": \"Please suggest a pant with sunblock\",\n",
      "  \"context\": \": 319\\nname: Men's Tropical Breeze Pants\\ndescription: These Men's cargo hiking pants are adventure-ready in a cool, moisture-wicking fabric that has 50+ UPF sunblock woven right in. Size & Fit - Classic Fit: Sits at the natural waist and trim, with a traditional straight leg. Fabric & Care - 100% nylon wicks moisture and resists wrinkles. Built-in SunSmart™ UPF 50+ rated – the highest rated sun protection possible. Additional Features - Button front with zip fly. Adjustable nylon belt. Two front slash pockets, two cargo pockets, two rear pockets. Zippered security pocket. Elastic inserts in waist. Imported.Sun Protection That Won't Wear Off - Our high-performance fabric provides SPF 50+ sun protection, blocking 98% of the sun's harmful rays.<<<<>>>>>: 2\\nname: Infant and Toddler Girls' Coastal Chill Swimsuit, Two-Piece\\ndescription: She'll love the bright colors, ruffles and exclusive whimsical prints of this toddler's two-piece swimsuit! Our four-way-stretch and chlorine-resistant fabric keeps its shape and resists snags. The UPF 50+ rated fabric provides the highest rated sun protection possible, blocking 98% of the sun's harmful rays. The crossover no-slip straps and fully lined bottom ensure a secure fit and maximum coverage. Machine wash and line dry for best results. Imported.<<<<>>>>>: 0\\nname: Women's Campside Oxfords\\ndescription: This ultracomfortable lace-to-toe Oxford boasts a super-soft canvas, thick cushioning, and quality construction for a broken-in feel from the first time you put them on. \\n\\nSize & Fit: Order regular shoe size. For half sizes not offered, order up to next whole size. \\n\\nSpecs: Approx. weight: 1 lb.1 oz. per pair. \\n\\nConstruction: Soft canvas material for a broken-in feel and look. Comfortable EVA innersole with Cleansport NXT® antimicrobial odor control. Vintage hunt, fish and camping motif on innersole. Moderate arch contour of innersole. EVA foam midsole for cushioning and support. Chain-tread-inspired molded rubber outsole with modified chain-tread pattern. Imported. \\n\\nQuestions? Please contact us for any inquiries.<<<<>>>>>Have questions? Reach out to our customer service team with any questions you may have.\"\n",
      "}\n",
      "\u001b[32;1m\u001b[1;3m[llm/start]\u001b[0m \u001b[1m[1:chain:RetrievalQA > 3:chain:StuffDocumentsChain > 4:chain:LLMChain > 5:llm:AzureChatOpenAI] Entering LLM run with input:\n",
      "\u001b[0m{\n",
      "  \"prompts\": [\n",
      "    \"System: Use the following pieces of context to answer the user's question. \\nIf you don't know the answer, just say that you don't know, don't try to make up an answer.\\n----------------\\n: 319\\nname: Men's Tropical Breeze Pants\\ndescription: These Men's cargo hiking pants are adventure-ready in a cool, moisture-wicking fabric that has 50+ UPF sunblock woven right in. Size & Fit - Classic Fit: Sits at the natural waist and trim, with a traditional straight leg. Fabric & Care - 100% nylon wicks moisture and resists wrinkles. Built-in SunSmart™ UPF 50+ rated – the highest rated sun protection possible. Additional Features - Button front with zip fly. Adjustable nylon belt. Two front slash pockets, two cargo pockets, two rear pockets. Zippered security pocket. Elastic inserts in waist. Imported.Sun Protection That Won't Wear Off - Our high-performance fabric provides SPF 50+ sun protection, blocking 98% of the sun's harmful rays.<<<<>>>>>: 2\\nname: Infant and Toddler Girls' Coastal Chill Swimsuit, Two-Piece\\ndescription: She'll love the bright colors, ruffles and exclusive whimsical prints of this toddler's two-piece swimsuit! Our four-way-stretch and chlorine-resistant fabric keeps its shape and resists snags. The UPF 50+ rated fabric provides the highest rated sun protection possible, blocking 98% of the sun's harmful rays. The crossover no-slip straps and fully lined bottom ensure a secure fit and maximum coverage. Machine wash and line dry for best results. Imported.<<<<>>>>>: 0\\nname: Women's Campside Oxfords\\ndescription: This ultracomfortable lace-to-toe Oxford boasts a super-soft canvas, thick cushioning, and quality construction for a broken-in feel from the first time you put them on. \\n\\nSize & Fit: Order regular shoe size. For half sizes not offered, order up to next whole size. \\n\\nSpecs: Approx. weight: 1 lb.1 oz. per pair. \\n\\nConstruction: Soft canvas material for a broken-in feel and look. Comfortable EVA innersole with Cleansport NXT® antimicrobial odor control. Vintage hunt, fish and camping motif on innersole. Moderate arch contour of innersole. EVA foam midsole for cushioning and support. Chain-tread-inspired molded rubber outsole with modified chain-tread pattern. Imported. \\n\\nQuestions? Please contact us for any inquiries.<<<<>>>>>Have questions? Reach out to our customer service team with any questions you may have.\\nHuman: Please suggest a pant with sunblock\"\n",
      "  ]\n",
      "}\n",
      "\u001b[36;1m\u001b[1;3m[llm/end]\u001b[0m \u001b[1m[1:chain:RetrievalQA > 3:chain:StuffDocumentsChain > 4:chain:LLMChain > 5:llm:AzureChatOpenAI] [2.04s] Exiting LLM run with output:\n",
      "\u001b[0m{\n",
      "  \"generations\": [\n",
      "    [\n",
      "      {\n",
      "        \"text\": \"The Men's Tropical Breeze Pants have 50+ UPF sunblock woven right in. They are made of 100% nylon that wicks moisture and resists wrinkles. They also have a classic fit and multiple pockets for storage.\",\n",
      "        \"generation_info\": {\n",
      "          \"finish_reason\": \"stop\",\n",
      "          \"logprobs\": null\n",
      "        },\n",
      "        \"type\": \"ChatGeneration\",\n",
      "        \"message\": {\n",
      "          \"lc\": 1,\n",
      "          \"type\": \"constructor\",\n",
      "          \"id\": [\n",
      "            \"langchain\",\n",
      "            \"schema\",\n",
      "            \"messages\",\n",
      "            \"AIMessage\"\n",
      "          ],\n",
      "          \"kwargs\": {\n",
      "            \"content\": \"The Men's Tropical Breeze Pants have 50+ UPF sunblock woven right in. They are made of 100% nylon that wicks moisture and resists wrinkles. They also have a classic fit and multiple pockets for storage.\",\n",
      "            \"additional_kwargs\": {}\n",
      "          }\n",
      "        }\n",
      "      }\n",
      "    ]\n",
      "  ],\n",
      "  \"llm_output\": {\n",
      "    \"token_usage\": {\n",
      "      \"completion_tokens\": 48,\n",
      "      \"prompt_tokens\": 561,\n",
      "      \"total_tokens\": 609\n",
      "    },\n",
      "    \"model_name\": \"gpt-35-turbo\",\n",
      "    \"system_fingerprint\": null\n",
      "  },\n",
      "  \"run\": null\n",
      "}\n",
      "\u001b[36;1m\u001b[1;3m[chain/end]\u001b[0m \u001b[1m[1:chain:RetrievalQA > 3:chain:StuffDocumentsChain > 4:chain:LLMChain] [2.04s] Exiting Chain run with output:\n",
      "\u001b[0m{\n",
      "  \"text\": \"The Men's Tropical Breeze Pants have 50+ UPF sunblock woven right in. They are made of 100% nylon that wicks moisture and resists wrinkles. They also have a classic fit and multiple pockets for storage.\"\n",
      "}\n",
      "\u001b[36;1m\u001b[1;3m[chain/end]\u001b[0m \u001b[1m[1:chain:RetrievalQA > 3:chain:StuffDocumentsChain] [2.04s] Exiting Chain run with output:\n",
      "\u001b[0m{\n",
      "  \"output_text\": \"The Men's Tropical Breeze Pants have 50+ UPF sunblock woven right in. They are made of 100% nylon that wicks moisture and resists wrinkles. They also have a classic fit and multiple pockets for storage.\"\n",
      "}\n",
      "\u001b[36;1m\u001b[1;3m[chain/end]\u001b[0m \u001b[1m[1:chain:RetrievalQA] [4.91s] Exiting Chain run with output:\n",
      "\u001b[0m{\n",
      "  \"result\": \"The Men's Tropical Breeze Pants have 50+ UPF sunblock woven right in. They are made of 100% nylon that wicks moisture and resists wrinkles. They also have a classic fit and multiple pockets for storage.\"\n",
      "}\n"
     ]
    },
    {
     "data": {
      "text/plain": [
       "\"The Men's Tropical Breeze Pants have 50+ UPF sunblock woven right in. They are made of 100% nylon that wicks moisture and resists wrinkles. They also have a classic fit and multiple pockets for storage.\""
      ]
     },
     "execution_count": 36,
     "metadata": {},
     "output_type": "execute_result"
    }
   ],
   "source": [
    "qa.run(examples[0][\"query\"])"
   ]
  },
  {
   "cell_type": "code",
   "execution_count": 37,
   "id": "05f3e0c8",
   "metadata": {},
   "outputs": [
    {
     "name": "stdout",
     "output_type": "stream",
     "text": [
      "\u001b[32;1m\u001b[1;3m[chain/start]\u001b[0m \u001b[1m[1:chain:RetrievalQA] Entering Chain run with input:\n",
      "\u001b[0m{\n",
      "  \"query\": \"What are the dimensions of the small and medium Recycled Waterhog dog mats?\"\n",
      "}\n"
     ]
    },
    {
     "name": "stdout",
     "output_type": "stream",
     "text": [
      "\u001b[32;1m\u001b[1;3m[chain/start]\u001b[0m \u001b[1m[1:chain:RetrievalQA > 3:chain:StuffDocumentsChain] Entering Chain run with input:\n",
      "\u001b[0m[inputs]\n",
      "\u001b[32;1m\u001b[1;3m[chain/start]\u001b[0m \u001b[1m[1:chain:RetrievalQA > 3:chain:StuffDocumentsChain > 4:chain:LLMChain] Entering Chain run with input:\n",
      "\u001b[0m{\n",
      "  \"question\": \"What are the dimensions of the small and medium Recycled Waterhog dog mats?\",\n",
      "  \"context\": \": 1\\nname: Recycled Waterhog Dog Mat, Chevron Weave\\ndescription: Protect your floors from spills and splashing with our ultradurable recycled Waterhog dog mat made right here in the USA. \\n\\nSpecs\\nSmall - Dimensions: 18\\\" x 28\\\". \\nMedium - Dimensions: 22.5\\\" x 34.5\\\".\\n\\nWhy We Love It\\nMother nature, wet shoes and muddy paws have met their match with our Recycled Waterhog mats. Ruggedly constructed from recycled plastic materials, these ultratough mats help keep dirt and water off your floors and plastic out of landfills, trails and oceans. Now, that's a win-win for everyone.\\n\\nFabric & Care\\nVacuum or hose clean.\\n\\nConstruction\\n24 oz. polyester fabric made from 94% recycled materials.\\nRubber backing.\\n\\nAdditional Features\\nFeatures an -exclusive design.\\nFeatures thick and thin fibers for scraping dirt and absorbing water.\\nDries quickly and resists fading, rotting, mildew and shedding.\\nUse indoors or out.\\nMade in the USA.<<<<>>>>>: 0\\nname: Women's Campside Oxfords\\ndescription: This ultracomfortable lace-to-toe Oxford boasts a super-soft canvas, thick cushioning, and quality construction for a broken-in feel from the first time you put them on. \\n\\nSize & Fit: Order regular shoe size. For half sizes not offered, order up to next whole size. \\n\\nSpecs: Approx. weight: 1 lb.1 oz. per pair. \\n\\nConstruction: Soft canvas material for a broken-in feel and look. Comfortable EVA innersole with Cleansport NXT® antimicrobial odor control. Vintage hunt, fish and camping motif on innersole. Moderate arch contour of innersole. EVA foam midsole for cushioning and support. Chain-tread-inspired molded rubber outsole with modified chain-tread pattern. Imported. \\n\\nQuestions? Please contact us for any inquiries.<<<<>>>>>: 2\\nname: Infant and Toddler Girls' Coastal Chill Swimsuit, Two-Piece\\ndescription: She'll love the bright colors, ruffles and exclusive whimsical prints of this toddler's two-piece swimsuit! Our four-way-stretch and chlorine-resistant fabric keeps its shape and resists snags. The UPF 50+ rated fabric provides the highest rated sun protection possible, blocking 98% of the sun's harmful rays. The crossover no-slip straps and fully lined bottom ensure a secure fit and maximum coverage. Machine wash and line dry for best results. Imported.<<<<>>>>>: 319\\nname: Men's Tropical Breeze Pants\\ndescription: These Men's cargo hiking pants are adventure-ready in a cool, moisture-wicking fabric that has 50+ UPF sunblock woven right in. Size & Fit - Classic Fit: Sits at the natural waist and trim, with a traditional straight leg. Fabric & Care - 100% nylon wicks moisture and resists wrinkles. Built-in SunSmart™ UPF 50+ rated – the highest rated sun protection possible. Additional Features - Button front with zip fly. Adjustable nylon belt. Two front slash pockets, two cargo pockets, two rear pockets. Zippered security pocket. Elastic inserts in waist. Imported.Sun Protection That Won't Wear Off - Our high-performance fabric provides SPF 50+ sun protection, blocking 98% of the sun's harmful rays.\"\n",
      "}\n",
      "\u001b[32;1m\u001b[1;3m[llm/start]\u001b[0m \u001b[1m[1:chain:RetrievalQA > 3:chain:StuffDocumentsChain > 4:chain:LLMChain > 5:llm:AzureChatOpenAI] Entering LLM run with input:\n",
      "\u001b[0m{\n",
      "  \"prompts\": [\n",
      "    \"System: Use the following pieces of context to answer the user's question. \\nIf you don't know the answer, just say that you don't know, don't try to make up an answer.\\n----------------\\n: 1\\nname: Recycled Waterhog Dog Mat, Chevron Weave\\ndescription: Protect your floors from spills and splashing with our ultradurable recycled Waterhog dog mat made right here in the USA. \\n\\nSpecs\\nSmall - Dimensions: 18\\\" x 28\\\". \\nMedium - Dimensions: 22.5\\\" x 34.5\\\".\\n\\nWhy We Love It\\nMother nature, wet shoes and muddy paws have met their match with our Recycled Waterhog mats. Ruggedly constructed from recycled plastic materials, these ultratough mats help keep dirt and water off your floors and plastic out of landfills, trails and oceans. Now, that's a win-win for everyone.\\n\\nFabric & Care\\nVacuum or hose clean.\\n\\nConstruction\\n24 oz. polyester fabric made from 94% recycled materials.\\nRubber backing.\\n\\nAdditional Features\\nFeatures an -exclusive design.\\nFeatures thick and thin fibers for scraping dirt and absorbing water.\\nDries quickly and resists fading, rotting, mildew and shedding.\\nUse indoors or out.\\nMade in the USA.<<<<>>>>>: 0\\nname: Women's Campside Oxfords\\ndescription: This ultracomfortable lace-to-toe Oxford boasts a super-soft canvas, thick cushioning, and quality construction for a broken-in feel from the first time you put them on. \\n\\nSize & Fit: Order regular shoe size. For half sizes not offered, order up to next whole size. \\n\\nSpecs: Approx. weight: 1 lb.1 oz. per pair. \\n\\nConstruction: Soft canvas material for a broken-in feel and look. Comfortable EVA innersole with Cleansport NXT® antimicrobial odor control. Vintage hunt, fish and camping motif on innersole. Moderate arch contour of innersole. EVA foam midsole for cushioning and support. Chain-tread-inspired molded rubber outsole with modified chain-tread pattern. Imported. \\n\\nQuestions? Please contact us for any inquiries.<<<<>>>>>: 2\\nname: Infant and Toddler Girls' Coastal Chill Swimsuit, Two-Piece\\ndescription: She'll love the bright colors, ruffles and exclusive whimsical prints of this toddler's two-piece swimsuit! Our four-way-stretch and chlorine-resistant fabric keeps its shape and resists snags. The UPF 50+ rated fabric provides the highest rated sun protection possible, blocking 98% of the sun's harmful rays. The crossover no-slip straps and fully lined bottom ensure a secure fit and maximum coverage. Machine wash and line dry for best results. Imported.<<<<>>>>>: 319\\nname: Men's Tropical Breeze Pants\\ndescription: These Men's cargo hiking pants are adventure-ready in a cool, moisture-wicking fabric that has 50+ UPF sunblock woven right in. Size & Fit - Classic Fit: Sits at the natural waist and trim, with a traditional straight leg. Fabric & Care - 100% nylon wicks moisture and resists wrinkles. Built-in SunSmart™ UPF 50+ rated – the highest rated sun protection possible. Additional Features - Button front with zip fly. Adjustable nylon belt. Two front slash pockets, two cargo pockets, two rear pockets. Zippered security pocket. Elastic inserts in waist. Imported.Sun Protection That Won't Wear Off - Our high-performance fabric provides SPF 50+ sun protection, blocking 98% of the sun's harmful rays.\\nHuman: What are the dimensions of the small and medium Recycled Waterhog dog mats?\"\n",
      "  ]\n",
      "}\n",
      "\u001b[36;1m\u001b[1;3m[llm/end]\u001b[0m \u001b[1m[1:chain:RetrievalQA > 3:chain:StuffDocumentsChain > 4:chain:LLMChain > 5:llm:AzureChatOpenAI] [2.04s] Exiting LLM run with output:\n",
      "\u001b[0m{\n",
      "  \"generations\": [\n",
      "    [\n",
      "      {\n",
      "        \"text\": \"The small Recycled Waterhog dog mat has dimensions of 18\\\" x 28\\\" and the medium size has dimensions of 22.5\\\" x 34.5\\\".\",\n",
      "        \"generation_info\": {\n",
      "          \"finish_reason\": \"stop\",\n",
      "          \"logprobs\": null\n",
      "        },\n",
      "        \"type\": \"ChatGeneration\",\n",
      "        \"message\": {\n",
      "          \"lc\": 1,\n",
      "          \"type\": \"constructor\",\n",
      "          \"id\": [\n",
      "            \"langchain\",\n",
      "            \"schema\",\n",
      "            \"messages\",\n",
      "            \"AIMessage\"\n",
      "          ],\n",
      "          \"kwargs\": {\n",
      "            \"content\": \"The small Recycled Waterhog dog mat has dimensions of 18\\\" x 28\\\" and the medium size has dimensions of 22.5\\\" x 34.5\\\".\",\n",
      "            \"additional_kwargs\": {}\n",
      "          }\n",
      "        }\n",
      "      }\n",
      "    ]\n",
      "  ],\n",
      "  \"llm_output\": {\n",
      "    \"token_usage\": {\n",
      "      \"completion_tokens\": 36,\n",
      "      \"prompt_tokens\": 772,\n",
      "      \"total_tokens\": 808\n",
      "    },\n",
      "    \"model_name\": \"gpt-35-turbo\",\n",
      "    \"system_fingerprint\": null\n",
      "  },\n",
      "  \"run\": null\n",
      "}\n",
      "\u001b[36;1m\u001b[1;3m[chain/end]\u001b[0m \u001b[1m[1:chain:RetrievalQA > 3:chain:StuffDocumentsChain > 4:chain:LLMChain] [2.04s] Exiting Chain run with output:\n",
      "\u001b[0m{\n",
      "  \"text\": \"The small Recycled Waterhog dog mat has dimensions of 18\\\" x 28\\\" and the medium size has dimensions of 22.5\\\" x 34.5\\\".\"\n",
      "}\n",
      "\u001b[36;1m\u001b[1;3m[chain/end]\u001b[0m \u001b[1m[1:chain:RetrievalQA > 3:chain:StuffDocumentsChain] [2.04s] Exiting Chain run with output:\n",
      "\u001b[0m{\n",
      "  \"output_text\": \"The small Recycled Waterhog dog mat has dimensions of 18\\\" x 28\\\" and the medium size has dimensions of 22.5\\\" x 34.5\\\".\"\n",
      "}\n",
      "\u001b[36;1m\u001b[1;3m[chain/end]\u001b[0m \u001b[1m[1:chain:RetrievalQA] [3.65s] Exiting Chain run with output:\n",
      "\u001b[0m{\n",
      "  \"result\": \"The small Recycled Waterhog dog mat has dimensions of 18\\\" x 28\\\" and the medium size has dimensions of 22.5\\\" x 34.5\\\".\"\n",
      "}\n"
     ]
    },
    {
     "data": {
      "text/plain": [
       "'The small Recycled Waterhog dog mat has dimensions of 18\" x 28\" and the medium size has dimensions of 22.5\" x 34.5\".'"
      ]
     },
     "execution_count": 37,
     "metadata": {},
     "output_type": "execute_result"
    }
   ],
   "source": [
    "qa.run(examples[2][\"qa_pairs\"][\"query\"])"
   ]
  },
  {
   "cell_type": "markdown",
   "id": "63f3cb08",
   "metadata": {},
   "source": [
    "## Manual Evaluation"
   ]
  },
  {
   "cell_type": "code",
   "execution_count": 38,
   "id": "fcaf622e",
   "metadata": {
    "height": 47
   },
   "outputs": [],
   "source": [
    "import langchain\n",
    "langchain.debug = True"
   ]
  },
  {
   "cell_type": "code",
   "execution_count": 39,
   "id": "8a142638",
   "metadata": {
    "height": 30,
    "scrolled": false
   },
   "outputs": [
    {
     "name": "stdout",
     "output_type": "stream",
     "text": [
      "\u001b[32;1m\u001b[1;3m[chain/start]\u001b[0m \u001b[1m[1:chain:RetrievalQA] Entering Chain run with input:\n",
      "\u001b[0m{\n",
      "  \"query\": \"Please suggest a pant with sunblock\"\n",
      "}\n",
      "\u001b[32;1m\u001b[1;3m[chain/start]\u001b[0m \u001b[1m[1:chain:RetrievalQA > 3:chain:StuffDocumentsChain] Entering Chain run with input:\n",
      "\u001b[0m[inputs]\n",
      "\u001b[32;1m\u001b[1;3m[chain/start]\u001b[0m \u001b[1m[1:chain:RetrievalQA > 3:chain:StuffDocumentsChain > 4:chain:LLMChain] Entering Chain run with input:\n",
      "\u001b[0m{\n",
      "  \"question\": \"Please suggest a pant with sunblock\",\n",
      "  \"context\": \": 319\\nname: Men's Tropical Breeze Pants\\ndescription: These Men's cargo hiking pants are adventure-ready in a cool, moisture-wicking fabric that has 50+ UPF sunblock woven right in. Size & Fit - Classic Fit: Sits at the natural waist and trim, with a traditional straight leg. Fabric & Care - 100% nylon wicks moisture and resists wrinkles. Built-in SunSmart™ UPF 50+ rated – the highest rated sun protection possible. Additional Features - Button front with zip fly. Adjustable nylon belt. Two front slash pockets, two cargo pockets, two rear pockets. Zippered security pocket. Elastic inserts in waist. Imported.Sun Protection That Won't Wear Off - Our high-performance fabric provides SPF 50+ sun protection, blocking 98% of the sun's harmful rays.<<<<>>>>>: 2\\nname: Infant and Toddler Girls' Coastal Chill Swimsuit, Two-Piece\\ndescription: She'll love the bright colors, ruffles and exclusive whimsical prints of this toddler's two-piece swimsuit! Our four-way-stretch and chlorine-resistant fabric keeps its shape and resists snags. The UPF 50+ rated fabric provides the highest rated sun protection possible, blocking 98% of the sun's harmful rays. The crossover no-slip straps and fully lined bottom ensure a secure fit and maximum coverage. Machine wash and line dry for best results. Imported.<<<<>>>>>: 0\\nname: Women's Campside Oxfords\\ndescription: This ultracomfortable lace-to-toe Oxford boasts a super-soft canvas, thick cushioning, and quality construction for a broken-in feel from the first time you put them on. \\n\\nSize & Fit: Order regular shoe size. For half sizes not offered, order up to next whole size. \\n\\nSpecs: Approx. weight: 1 lb.1 oz. per pair. \\n\\nConstruction: Soft canvas material for a broken-in feel and look. Comfortable EVA innersole with Cleansport NXT® antimicrobial odor control. Vintage hunt, fish and camping motif on innersole. Moderate arch contour of innersole. EVA foam midsole for cushioning and support. Chain-tread-inspired molded rubber outsole with modified chain-tread pattern. Imported. \\n\\nQuestions? Please contact us for any inquiries.<<<<>>>>>Have questions? Reach out to our customer service team with any questions you may have.\"\n",
      "}\n",
      "\u001b[32;1m\u001b[1;3m[llm/start]\u001b[0m \u001b[1m[1:chain:RetrievalQA > 3:chain:StuffDocumentsChain > 4:chain:LLMChain > 5:llm:AzureChatOpenAI] Entering LLM run with input:\n",
      "\u001b[0m{\n",
      "  \"prompts\": [\n",
      "    \"System: Use the following pieces of context to answer the user's question. \\nIf you don't know the answer, just say that you don't know, don't try to make up an answer.\\n----------------\\n: 319\\nname: Men's Tropical Breeze Pants\\ndescription: These Men's cargo hiking pants are adventure-ready in a cool, moisture-wicking fabric that has 50+ UPF sunblock woven right in. Size & Fit - Classic Fit: Sits at the natural waist and trim, with a traditional straight leg. Fabric & Care - 100% nylon wicks moisture and resists wrinkles. Built-in SunSmart™ UPF 50+ rated – the highest rated sun protection possible. Additional Features - Button front with zip fly. Adjustable nylon belt. Two front slash pockets, two cargo pockets, two rear pockets. Zippered security pocket. Elastic inserts in waist. Imported.Sun Protection That Won't Wear Off - Our high-performance fabric provides SPF 50+ sun protection, blocking 98% of the sun's harmful rays.<<<<>>>>>: 2\\nname: Infant and Toddler Girls' Coastal Chill Swimsuit, Two-Piece\\ndescription: She'll love the bright colors, ruffles and exclusive whimsical prints of this toddler's two-piece swimsuit! Our four-way-stretch and chlorine-resistant fabric keeps its shape and resists snags. The UPF 50+ rated fabric provides the highest rated sun protection possible, blocking 98% of the sun's harmful rays. The crossover no-slip straps and fully lined bottom ensure a secure fit and maximum coverage. Machine wash and line dry for best results. Imported.<<<<>>>>>: 0\\nname: Women's Campside Oxfords\\ndescription: This ultracomfortable lace-to-toe Oxford boasts a super-soft canvas, thick cushioning, and quality construction for a broken-in feel from the first time you put them on. \\n\\nSize & Fit: Order regular shoe size. For half sizes not offered, order up to next whole size. \\n\\nSpecs: Approx. weight: 1 lb.1 oz. per pair. \\n\\nConstruction: Soft canvas material for a broken-in feel and look. Comfortable EVA innersole with Cleansport NXT® antimicrobial odor control. Vintage hunt, fish and camping motif on innersole. Moderate arch contour of innersole. EVA foam midsole for cushioning and support. Chain-tread-inspired molded rubber outsole with modified chain-tread pattern. Imported. \\n\\nQuestions? Please contact us for any inquiries.<<<<>>>>>Have questions? Reach out to our customer service team with any questions you may have.\\nHuman: Please suggest a pant with sunblock\"\n",
      "  ]\n",
      "}\n",
      "\u001b[36;1m\u001b[1;3m[llm/end]\u001b[0m \u001b[1m[1:chain:RetrievalQA > 3:chain:StuffDocumentsChain > 4:chain:LLMChain > 5:llm:AzureChatOpenAI] [3.09s] Exiting LLM run with output:\n",
      "\u001b[0m{\n",
      "  \"generations\": [\n",
      "    [\n",
      "      {\n",
      "        \"text\": \"The Men's Tropical Breeze Pants have 50+ UPF sunblock woven right in. They are made of 100% nylon that wicks moisture and resists wrinkles. They also have a classic fit and multiple pockets for storage.\",\n",
      "        \"generation_info\": {\n",
      "          \"finish_reason\": \"stop\",\n",
      "          \"logprobs\": null\n",
      "        },\n",
      "        \"type\": \"ChatGeneration\",\n",
      "        \"message\": {\n",
      "          \"lc\": 1,\n",
      "          \"type\": \"constructor\",\n",
      "          \"id\": [\n",
      "            \"langchain\",\n",
      "            \"schema\",\n",
      "            \"messages\",\n",
      "            \"AIMessage\"\n",
      "          ],\n",
      "          \"kwargs\": {\n",
      "            \"content\": \"The Men's Tropical Breeze Pants have 50+ UPF sunblock woven right in. They are made of 100% nylon that wicks moisture and resists wrinkles. They also have a classic fit and multiple pockets for storage.\",\n",
      "            \"additional_kwargs\": {}\n",
      "          }\n",
      "        }\n",
      "      }\n",
      "    ]\n",
      "  ],\n",
      "  \"llm_output\": {\n",
      "    \"token_usage\": {\n",
      "      \"completion_tokens\": 48,\n",
      "      \"prompt_tokens\": 561,\n",
      "      \"total_tokens\": 609\n",
      "    },\n",
      "    \"model_name\": \"gpt-35-turbo\",\n",
      "    \"system_fingerprint\": null\n",
      "  },\n",
      "  \"run\": null\n",
      "}\n",
      "\u001b[36;1m\u001b[1;3m[chain/end]\u001b[0m \u001b[1m[1:chain:RetrievalQA > 3:chain:StuffDocumentsChain > 4:chain:LLMChain] [3.10s] Exiting Chain run with output:\n",
      "\u001b[0m{\n",
      "  \"text\": \"The Men's Tropical Breeze Pants have 50+ UPF sunblock woven right in. They are made of 100% nylon that wicks moisture and resists wrinkles. They also have a classic fit and multiple pockets for storage.\"\n",
      "}\n",
      "\u001b[36;1m\u001b[1;3m[chain/end]\u001b[0m \u001b[1m[1:chain:RetrievalQA > 3:chain:StuffDocumentsChain] [3.10s] Exiting Chain run with output:\n",
      "\u001b[0m{\n",
      "  \"output_text\": \"The Men's Tropical Breeze Pants have 50+ UPF sunblock woven right in. They are made of 100% nylon that wicks moisture and resists wrinkles. They also have a classic fit and multiple pockets for storage.\"\n",
      "}\n",
      "\u001b[36;1m\u001b[1;3m[chain/end]\u001b[0m \u001b[1m[1:chain:RetrievalQA] [5.09s] Exiting Chain run with output:\n",
      "\u001b[0m{\n",
      "  \"result\": \"The Men's Tropical Breeze Pants have 50+ UPF sunblock woven right in. They are made of 100% nylon that wicks moisture and resists wrinkles. They also have a classic fit and multiple pockets for storage.\"\n",
      "}\n"
     ]
    },
    {
     "data": {
      "text/plain": [
       "\"The Men's Tropical Breeze Pants have 50+ UPF sunblock woven right in. They are made of 100% nylon that wicks moisture and resists wrinkles. They also have a classic fit and multiple pockets for storage.\""
      ]
     },
     "execution_count": 39,
     "metadata": {},
     "output_type": "execute_result"
    }
   ],
   "source": [
    "qa.run(examples[0][\"query\"])"
   ]
  },
  {
   "cell_type": "code",
   "execution_count": 40,
   "id": "b3d6bef0",
   "metadata": {
    "height": 47
   },
   "outputs": [],
   "source": [
    "# Turn off the debug mode\n",
    "langchain.debug = False"
   ]
  },
  {
   "cell_type": "markdown",
   "id": "d5bdbdce",
   "metadata": {},
   "source": [
    "## LLM assisted evaluation"
   ]
  },
  {
   "cell_type": "code",
   "execution_count": 51,
   "id": "a4dca05a",
   "metadata": {
    "height": 30
   },
   "outputs": [
    {
     "name": "stdout",
     "output_type": "stream",
     "text": [
      "\n",
      "\n",
      "\u001b[1m> Entering new RetrievalQA chain...\u001b[0m\n",
      "\n",
      "\u001b[1m> Finished chain.\u001b[0m\n",
      "\n",
      "\n",
      "\u001b[1m> Entering new RetrievalQA chain...\u001b[0m\n",
      "\n",
      "\u001b[1m> Finished chain.\u001b[0m\n",
      "\n",
      "\n",
      "\u001b[1m> Entering new RetrievalQA chain...\u001b[0m\n",
      "\n",
      "\u001b[1m> Finished chain.\u001b[0m\n",
      "\n",
      "\n",
      "\u001b[1m> Entering new RetrievalQA chain...\u001b[0m\n",
      "\n",
      "\u001b[1m> Finished chain.\u001b[0m\n",
      "\n",
      "\n",
      "\u001b[1m> Entering new RetrievalQA chain...\u001b[0m\n",
      "\n",
      "\u001b[1m> Finished chain.\u001b[0m\n"
     ]
    }
   ],
   "source": [
    "predictions = qa.apply(examples)"
   ]
  },
  {
   "cell_type": "code",
   "execution_count": 53,
   "id": "6012a3e0",
   "metadata": {
    "height": 30
   },
   "outputs": [],
   "source": [
    "from langchain.evaluation.qa import QAEvalChain"
   ]
  },
  {
   "cell_type": "code",
   "execution_count": 54,
   "id": "724b1c0b",
   "metadata": {
    "height": 47
   },
   "outputs": [],
   "source": [
    "llm = AzureChatOpenAI(temperature=0.0, openai_api_version=\"2023-12-01-preview\", azure_deployment=\"gpt-35-turbo-felix\", openai_api_key=os.getenv(\"AZURE_OPENAI_KEY\"))\n",
    "eval_chain = QAEvalChain.from_llm(llm)"
   ]
  },
  {
   "cell_type": "code",
   "execution_count": 60,
   "id": "8b46ae55",
   "metadata": {
    "height": 30
   },
   "outputs": [],
   "source": [
    "graded_outputs = eval_chain.evaluate(examples, predictions)"
   ]
  },
  {
   "cell_type": "code",
   "execution_count": 64,
   "id": "d586de4d",
   "metadata": {},
   "outputs": [
    {
     "data": {
      "text/plain": [
       "[{'query': 'Please suggest a pant with sunblock',\n",
       "  'answer': '319...',\n",
       "  'result': \"The Men's Tropical Breeze Pants have 50+ UPF sunblock woven right in. They are made of 100% nylon that wicks moisture and resists wrinkles. They also have a classic fit and multiple pockets for storage.\"},\n",
       " {'query': \"What is the weight of one pair of Women's Campside Oxfords?\",\n",
       "  'answer': \"The approximate weight of one pair of Women's Campside Oxfords is 1 lb. 1 oz.\",\n",
       "  'result': \"The weight of one pair of Women's Campside Oxfords is approximately 1 lb. 1 oz.\"},\n",
       " {'query': 'What are the dimensions of the small and medium Recycled Waterhog dog mats?',\n",
       "  'answer': 'The small Recycled Waterhog dog mat has dimensions of 18\" x 28\" and the medium has dimensions of 22.5\" x 34.5\".',\n",
       "  'result': 'The small Recycled Waterhog dog mat has dimensions of 18\" x 28\" and the medium size has dimensions of 22.5\" x 34.5\".'},\n",
       " {'query': \"What are some features of the Infant and Toddler Girls' Coastal Chill Swimsuit?\",\n",
       "  'answer': \"The swimsuit has bright colors, ruffles, and exclusive whimsical prints. It is made of four-way-stretch and chlorine-resistant fabric that keeps its shape and resists snags. The swimsuit is also UPF 50+ rated, providing the highest rated sun protection possible, blocking 98% of the sun's harmful rays. The crossover no-slip straps and fully lined bottom ensure a secure fit and maximum coverage. The swimsuit can be machine washed and line dried for best results.\",\n",
       "  'result': \"The Infant and Toddler Girls' Coastal Chill Swimsuit is a two-piece swimsuit with bright colors, ruffles, and exclusive whimsical prints. It is made of four-way-stretch and chlorine-resistant fabric that keeps its shape and resists snags. The swimsuit has UPF 50+ rated fabric that provides the highest rated sun protection possible, blocking 98% of the sun's harmful rays. The crossover no-slip straps and fully lined bottom ensure a secure fit and maximum coverage. It can be machine washed and line dried for best results.\"},\n",
       " {'query': \"What is the fabric of the Men's Tropical Breeze Pants and what is its sun protection rating?\",\n",
       "  'answer': \"The Men's Tropical Breeze Pants are made of 100% nylon fabric that wicks moisture and resists wrinkles. The fabric has a built-in SunSmart™ UPF 50+ rating, which is the highest rated sun protection possible.\",\n",
       "  'result': \"The fabric of the Men's Tropical Breeze Pants is 100% nylon. The pants have built-in SunSmart™ UPF 50+ rated – the highest rated sun protection possible.\"}]"
      ]
     },
     "execution_count": 64,
     "metadata": {},
     "output_type": "execute_result"
    }
   ],
   "source": [
    "predictions"
   ]
  },
  {
   "cell_type": "code",
   "execution_count": 65,
   "id": "7e137380",
   "metadata": {},
   "outputs": [
    {
     "data": {
      "text/plain": [
       "[{'results': 'CORRECT'},\n",
       " {'results': 'CORRECT'},\n",
       " {'results': 'CORRECT'},\n",
       " {'results': 'CORRECT'},\n",
       " {'results': 'CORRECT'}]"
      ]
     },
     "execution_count": 65,
     "metadata": {},
     "output_type": "execute_result"
    }
   ],
   "source": [
    "graded_outputs"
   ]
  },
  {
   "cell_type": "code",
   "execution_count": 66,
   "id": "3437cfbe",
   "metadata": {
    "height": 132
   },
   "outputs": [
    {
     "name": "stdout",
     "output_type": "stream",
     "text": [
      "Example 0:\n",
      "Question: Please suggest a pant with sunblock\n",
      "Real Answer: 319...\n",
      "Predicted Answer: The Men's Tropical Breeze Pants have 50+ UPF sunblock woven right in. They are made of 100% nylon that wicks moisture and resists wrinkles. They also have a classic fit and multiple pockets for storage.\n",
      "Predicted Grade: CORRECT\n",
      "\n",
      "Example 1:\n",
      "Question: What is the weight of one pair of Women's Campside Oxfords?\n",
      "Real Answer: The approximate weight of one pair of Women's Campside Oxfords is 1 lb. 1 oz.\n",
      "Predicted Answer: The weight of one pair of Women's Campside Oxfords is approximately 1 lb. 1 oz.\n",
      "Predicted Grade: CORRECT\n",
      "\n",
      "Example 2:\n",
      "Question: What are the dimensions of the small and medium Recycled Waterhog dog mats?\n",
      "Real Answer: The small Recycled Waterhog dog mat has dimensions of 18\" x 28\" and the medium has dimensions of 22.5\" x 34.5\".\n",
      "Predicted Answer: The small Recycled Waterhog dog mat has dimensions of 18\" x 28\" and the medium size has dimensions of 22.5\" x 34.5\".\n",
      "Predicted Grade: CORRECT\n",
      "\n",
      "Example 3:\n",
      "Question: What are some features of the Infant and Toddler Girls' Coastal Chill Swimsuit?\n",
      "Real Answer: The swimsuit has bright colors, ruffles, and exclusive whimsical prints. It is made of four-way-stretch and chlorine-resistant fabric that keeps its shape and resists snags. The swimsuit is also UPF 50+ rated, providing the highest rated sun protection possible, blocking 98% of the sun's harmful rays. The crossover no-slip straps and fully lined bottom ensure a secure fit and maximum coverage. The swimsuit can be machine washed and line dried for best results.\n",
      "Predicted Answer: The Infant and Toddler Girls' Coastal Chill Swimsuit is a two-piece swimsuit with bright colors, ruffles, and exclusive whimsical prints. It is made of four-way-stretch and chlorine-resistant fabric that keeps its shape and resists snags. The swimsuit has UPF 50+ rated fabric that provides the highest rated sun protection possible, blocking 98% of the sun's harmful rays. The crossover no-slip straps and fully lined bottom ensure a secure fit and maximum coverage. It can be machine washed and line dried for best results.\n",
      "Predicted Grade: CORRECT\n",
      "\n",
      "Example 4:\n",
      "Question: What is the fabric of the Men's Tropical Breeze Pants and what is its sun protection rating?\n",
      "Real Answer: The Men's Tropical Breeze Pants are made of 100% nylon fabric that wicks moisture and resists wrinkles. The fabric has a built-in SunSmart™ UPF 50+ rating, which is the highest rated sun protection possible.\n",
      "Predicted Answer: The fabric of the Men's Tropical Breeze Pants is 100% nylon. The pants have built-in SunSmart™ UPF 50+ rated – the highest rated sun protection possible.\n",
      "Predicted Grade: CORRECT\n",
      "\n"
     ]
    }
   ],
   "source": [
    "for i, eg in enumerate(examples):\n",
    "    print(f\"Example {i}:\")\n",
    "    print(\"Question: \" + predictions[i]['query'])\n",
    "    print(\"Real Answer: \" + predictions[i]['answer'])\n",
    "    print(\"Predicted Answer: \" + predictions[i]['result'])\n",
    "    print(\"Predicted Grade: \" + graded_outputs[i]['results'])\n",
    "    print()"
   ]
  },
  {
   "cell_type": "code",
   "execution_count": 63,
   "id": "f2943697",
   "metadata": {},
   "outputs": [
    {
     "data": {
      "text/plain": [
       "[{'query': 'Please suggest a pant with sunblock',\n",
       "  'answer': \"The Men's Tropical Breeze Pants have 50+ UPF sunblock woven right in. They are made of 100% nylon that wicks moisture and resists wrinkles. They also have a classic fit and multiple pockets for storage.\"},\n",
       " {'query': \"What is the weight of one pair of Women's Campside Oxfords?\",\n",
       "  'answer': \"The approximate weight of one pair of Women's Campside Oxfords is 1 lb. 1 oz.\"},\n",
       " {'query': 'What are the dimensions of the small and medium Recycled Waterhog dog mats?',\n",
       "  'answer': 'The small Recycled Waterhog dog mat has dimensions of 18\" x 28\" and the medium has dimensions of 22.5\" x 34.5\".'},\n",
       " {'query': \"What are some features of the Infant and Toddler Girls' Coastal Chill Swimsuit?\",\n",
       "  'answer': \"The swimsuit has bright colors, ruffles, and exclusive whimsical prints. It is made of four-way-stretch and chlorine-resistant fabric that keeps its shape and resists snags. The swimsuit is also UPF 50+ rated, providing the highest rated sun protection possible, blocking 98% of the sun's harmful rays. The crossover no-slip straps and fully lined bottom ensure a secure fit and maximum coverage. The swimsuit can be machine washed and line dried for best results.\"},\n",
       " {'query': \"What is the fabric of the Men's Tropical Breeze Pants and what is its sun protection rating?\",\n",
       "  'answer': \"The Men's Tropical Breeze Pants are made of 100% nylon fabric that wicks moisture and resists wrinkles. The fabric has a built-in SunSmart™ UPF 50+ rating, which is the highest rated sun protection possible.\"}]"
      ]
     },
     "execution_count": 63,
     "metadata": {},
     "output_type": "execute_result"
    }
   ],
   "source": [
    "examples"
   ]
  },
  {
   "cell_type": "code",
   "execution_count": null,
   "id": "ce542854",
   "metadata": {
    "height": 30
   },
   "outputs": [],
   "source": []
  },
  {
   "cell_type": "code",
   "execution_count": null,
   "id": "be5b2aae",
   "metadata": {
    "height": 30
   },
   "outputs": [],
   "source": []
  },
  {
   "cell_type": "code",
   "execution_count": null,
   "id": "319798ba",
   "metadata": {
    "height": 30
   },
   "outputs": [],
   "source": []
  },
  {
   "cell_type": "code",
   "execution_count": null,
   "id": "89a504ad",
   "metadata": {
    "height": 30
   },
   "outputs": [],
   "source": []
  },
  {
   "cell_type": "code",
   "execution_count": null,
   "id": "dedd758b",
   "metadata": {
    "height": 30
   },
   "outputs": [],
   "source": []
  },
  {
   "cell_type": "code",
   "execution_count": null,
   "id": "36885b20",
   "metadata": {
    "height": 30
   },
   "outputs": [],
   "source": []
  },
  {
   "cell_type": "code",
   "execution_count": null,
   "id": "65c6cfb6",
   "metadata": {
    "height": 30
   },
   "outputs": [],
   "source": []
  },
  {
   "cell_type": "code",
   "execution_count": null,
   "id": "9ad3c7cc",
   "metadata": {
    "height": 30
   },
   "outputs": [],
   "source": []
  },
  {
   "cell_type": "code",
   "execution_count": null,
   "id": "26ac493e",
   "metadata": {
    "height": 30
   },
   "outputs": [],
   "source": []
  },
  {
   "cell_type": "code",
   "execution_count": null,
   "id": "f94cdacd",
   "metadata": {
    "height": 30
   },
   "outputs": [],
   "source": []
  }
 ],
 "metadata": {
  "kernelspec": {
   "display_name": "Python 3 (ipykernel)",
   "language": "python",
   "name": "python3"
  },
  "language_info": {
   "codemirror_mode": {
    "name": "ipython",
    "version": 3
   },
   "file_extension": ".py",
   "mimetype": "text/x-python",
   "name": "python",
   "nbconvert_exporter": "python",
   "pygments_lexer": "ipython3",
   "version": "3.12.2"
  }
 },
 "nbformat": 4,
 "nbformat_minor": 5
}
