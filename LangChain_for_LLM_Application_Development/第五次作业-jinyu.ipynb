{
 "cells": [
  {
   "cell_type": "markdown",
   "id": "52824b89-532a-4e54-87e9-1410813cd39e",
   "metadata": {},
   "source": [
    "# LangChain: RAG"
   ]
  },
  {
   "cell_type": "markdown",
   "id": "340cde34",
   "metadata": {},
   "source": [
    "Colab Notebook:\n",
    "https://colab.research.google.com/drive/1rPTvZM4HO--UNKHQ3CfDV7p3_zhRIX_j?usp=sharing"
   ]
  },
  {
   "cell_type": "code",
   "execution_count": null,
   "id": "2178da15",
   "metadata": {},
   "outputs": [],
   "source": [
    "!pip install  langchain langchain-community langchainhub langchain-openai chromadb bs4"
   ]
  },
  {
   "cell_type": "code",
   "execution_count": null,
   "id": "7b93d0e8",
   "metadata": {
    "tags": []
   },
   "outputs": [],
   "source": [
    "import bs4\n",
    "from langchain_community.document_loaders import WebBaseLoader\n",
    "from langchain_community.vectorstores import Chroma\n",
    "from langchain_core.output_parsers import StrOutputParser\n",
    "from langchain_core.runnables import RunnablePassthrough\n",
    "from langchain_openai import AzureChatOpenAI, AzureOpenAIEmbeddings\n",
    "from langchain.text_splitter import RecursiveCharacterTextSplitter\n",
    "from langchain_core.prompts import PromptTemplate\n",
    "# from langchain.prompts import ChatPromptTemplate\n",
    "\n"
   ]
  },
  {
   "cell_type": "code",
   "execution_count": null,
   "id": "53ee5722",
   "metadata": {},
   "outputs": [],
   "source": [
    "import os\n",
    "\n",
    "from dotenv import load_dotenv, find_dotenv\n",
    "_ = load_dotenv(find_dotenv()) # read local .env file"
   ]
  },
  {
   "cell_type": "code",
   "execution_count": null,
   "id": "7aadd5c1",
   "metadata": {
    "tags": []
   },
   "outputs": [],
   "source": [
    "llm = AzureChatOpenAI(temperature=0.0, openai_api_version=\"2023-12-01-preview\", azure_deployment=\"gpt-35-turbo-felix\", openai_api_key=os.getenv(\"AZURE_OPENAI_KEY\"))\n",
    "embeddings = AzureOpenAIEmbeddings(\n",
    "    azure_deployment=\"text-embedding-ada-002-felix\",\n",
    "    openai_api_version=\"2023-12-01-preview\",\n",
    ")"
   ]
  },
  {
   "cell_type": "code",
   "execution_count": null,
   "id": "408c5a01",
   "metadata": {},
   "outputs": [],
   "source": [
    "template = \"\"\"使用以下内容回答最后的问题。请使用中文回答\n",
    "如果你不知道答案，就说你不知道，不要试图编造答案。\n",
    "最多使用三句话，并尽可能简明扼要。\n",
    "总是在回答的最后说“谢谢你的提问！”\n",
    "\n",
    "{context}\n",
    "\n",
    "问题是: {question}\n",
    "\n",
    "有用的回答:\"\"\"\n",
    "custom_rag_prompt = PromptTemplate.from_template(template)"
   ]
  },
  {
   "cell_type": "code",
   "execution_count": null,
   "id": "394924ac",
   "metadata": {
    "tags": []
   },
   "outputs": [],
   "source": [
    "# Load, chunk and index the contents of the blog.\n",
    "loader = WebBaseLoader(\n",
    "    web_paths=(\"https://export.shobserver.com/baijiahao/html/715336.html\",),\n",
    "    bs_kwargs=dict(\n",
    "        parse_only=bs4.SoupStrainer(\n",
    "            class_=(\"titleFont\", \"contentFont\")\n",
    "        )\n",
    "    ),\n",
    ")\n",
    "docs = loader.load()\n",
    "docs\n"
   ]
  },
  {
   "cell_type": "code",
   "execution_count": null,
   "id": "24cfc33e",
   "metadata": {},
   "outputs": [],
   "source": [
    "text_splitter = RecursiveCharacterTextSplitter(chunk_size=1000, chunk_overlap=64)\n",
    "splits = text_splitter.split_documents(docs)\n",
    "\n",
    "splits\n"
   ]
  },
  {
   "cell_type": "code",
   "execution_count": null,
   "id": "5bbe981a",
   "metadata": {},
   "outputs": [],
   "source": [
    "vectorstore = Chroma.from_documents(documents=splits, embedding=embeddings)"
   ]
  },
  {
   "cell_type": "code",
   "execution_count": null,
   "id": "ed2002d5",
   "metadata": {},
   "outputs": [],
   "source": [
    "# Retrieve and generate using the relevant snippets of the blog.\n",
    "retriever = vectorstore.as_retriever(search_kwargus={\"k\": 2})"
   ]
  },
  {
   "cell_type": "code",
   "execution_count": null,
   "id": "0846f610",
   "metadata": {},
   "outputs": [],
   "source": [
    "\n",
    "# prompt = hub.pull(\"rlm/rag-prompt\")\n",
    "\n",
    "\n",
    "def format_docs(docs):\n",
    "    return \"\\n\\n\".join(doc.page_content for doc in docs)\n",
    "\n",
    "\n",
    "rag_chain = (\n",
    "    {\"context\": retriever | format_docs, \"question\": RunnablePassthrough()}\n",
    "    | custom_rag_prompt\n",
    "    | llm\n",
    "    | StrOutputParser()\n",
    ")"
   ]
  },
  {
   "cell_type": "code",
   "execution_count": null,
   "id": "02cd4956",
   "metadata": {
    "tags": []
   },
   "outputs": [],
   "source": [
    "rag_chain.invoke(\"结合乘务长娄颖雯的介绍，回答C919大飞机的客舱过道有什么特点？\")"
   ]
  },
  {
   "cell_type": "code",
   "execution_count": null,
   "id": "8bb9fa25",
   "metadata": {},
   "outputs": [],
   "source": [
    "rag_chain.invoke(\"C919飞机上的餐食有什么特点？\")"
   ]
  },
  {
   "cell_type": "code",
   "execution_count": null,
   "id": "9432417f",
   "metadata": {},
   "outputs": [],
   "source": [
    "rag_chain.invoke(\"娄颖雯是什么时候开始在C919工作的\")"
   ]
  },
  {
   "cell_type": "code",
   "execution_count": null,
   "id": "6b7936c1",
   "metadata": {},
   "outputs": [],
   "source": [
    "rag_chain.invoke(\"已经投运的C919飞机共有几架？\")"
   ]
  },
  {
   "cell_type": "code",
   "execution_count": null,
   "id": "9126cf70",
   "metadata": {},
   "outputs": [],
   "source": []
  },
  {
   "cell_type": "code",
   "execution_count": null,
   "id": "44efb27e",
   "metadata": {},
   "outputs": [],
   "source": []
  },
  {
   "cell_type": "code",
   "execution_count": null,
   "id": "246dd5a4",
   "metadata": {},
   "outputs": [],
   "source": []
  }
 ],
 "metadata": {
  "kernelspec": {
   "display_name": "Python 3 (ipykernel)",
   "language": "python",
   "name": "python3"
  },
  "language_info": {
   "codemirror_mode": {
    "name": "ipython",
    "version": 3
   },
   "file_extension": ".py",
   "mimetype": "text/x-python",
   "name": "python",
   "nbconvert_exporter": "python",
   "pygments_lexer": "ipython3",
   "version": "3.12.2"
  }
 },
 "nbformat": 4,
 "nbformat_minor": 5
}
