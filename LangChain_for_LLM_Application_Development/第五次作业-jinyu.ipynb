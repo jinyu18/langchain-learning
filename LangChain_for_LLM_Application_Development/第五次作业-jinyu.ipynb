{
 "cells": [
  {
   "cell_type": "markdown",
   "id": "52824b89-532a-4e54-87e9-1410813cd39e",
   "metadata": {},
   "source": [
    "# LangChain: RAG"
   ]
  },
  {
   "cell_type": "markdown",
   "id": "340cde34",
   "metadata": {},
   "source": [
    "Colab Notebook:\n",
    "https://colab.research.google.com/drive/1rPTvZM4HO--UNKHQ3CfDV7p3_zhRIX_j?usp=sharing"
   ]
  },
  {
   "cell_type": "code",
   "execution_count": 25,
   "id": "2178da15",
   "metadata": {},
   "outputs": [
    {
     "name": "stdout",
     "output_type": "stream",
     "text": [
      "Looking in indexes: https://pypi.tuna.tsinghua.edu.cn/simple\n",
      "Requirement already satisfied: langchain in /Users/felixjin/.pyenv/versions/3.12.2/lib/python3.12/site-packages (0.1.7)\n",
      "Requirement already satisfied: langchain-community in /Users/felixjin/.pyenv/versions/3.12.2/lib/python3.12/site-packages (0.0.20)\n",
      "Requirement already satisfied: langchainhub in /Users/felixjin/.pyenv/versions/3.12.2/lib/python3.12/site-packages (0.1.15)\n",
      "Requirement already satisfied: langchain-openai in /Users/felixjin/.pyenv/versions/3.12.2/lib/python3.12/site-packages (0.0.6)\n",
      "Requirement already satisfied: chromadb in /Users/felixjin/.pyenv/versions/3.12.2/lib/python3.12/site-packages (0.4.24)\n",
      "Requirement already satisfied: bs4 in /Users/felixjin/.pyenv/versions/3.12.2/lib/python3.12/site-packages (0.0.2)\n",
      "Requirement already satisfied: PyYAML>=5.3 in /Users/felixjin/.pyenv/versions/3.12.2/lib/python3.12/site-packages (from langchain) (6.0.1)\n",
      "Requirement already satisfied: SQLAlchemy<3,>=1.4 in /Users/felixjin/.pyenv/versions/3.12.2/lib/python3.12/site-packages (from langchain) (2.0.27)\n",
      "Requirement already satisfied: aiohttp<4.0.0,>=3.8.3 in /Users/felixjin/.pyenv/versions/3.12.2/lib/python3.12/site-packages (from langchain) (3.9.3)\n",
      "Requirement already satisfied: dataclasses-json<0.7,>=0.5.7 in /Users/felixjin/.pyenv/versions/3.12.2/lib/python3.12/site-packages (from langchain) (0.6.4)\n",
      "Requirement already satisfied: jsonpatch<2.0,>=1.33 in /Users/felixjin/.pyenv/versions/3.12.2/lib/python3.12/site-packages (from langchain) (1.33)\n",
      "Requirement already satisfied: langchain-core<0.2,>=0.1.22 in /Users/felixjin/.pyenv/versions/3.12.2/lib/python3.12/site-packages (from langchain) (0.1.32)\n",
      "Collecting langsmith<0.1,>=0.0.83 (from langchain)\n",
      "  Using cached https://pypi.tuna.tsinghua.edu.cn/packages/97/cd/1c618f89d3fcbb375c99a3ea950bffba8a01862cc0f0ab5032dfb95e8d1e/langsmith-0.0.92-py3-none-any.whl (56 kB)\n",
      "Requirement already satisfied: numpy<2,>=1 in /Users/felixjin/.pyenv/versions/3.12.2/lib/python3.12/site-packages (from langchain) (1.26.4)\n",
      "Requirement already satisfied: pydantic<3,>=1 in /Users/felixjin/.pyenv/versions/3.12.2/lib/python3.12/site-packages (from langchain) (1.10.8)\n",
      "Requirement already satisfied: requests<3,>=2 in /Users/felixjin/.pyenv/versions/3.12.2/lib/python3.12/site-packages (from langchain) (2.31.0)\n",
      "Requirement already satisfied: tenacity<9.0.0,>=8.1.0 in /Users/felixjin/.pyenv/versions/3.12.2/lib/python3.12/site-packages (from langchain) (8.2.3)\n",
      "Requirement already satisfied: types-requests<3.0.0.0,>=2.31.0.2 in /Users/felixjin/.pyenv/versions/3.12.2/lib/python3.12/site-packages (from langchainhub) (2.31.0.20240218)\n",
      "Requirement already satisfied: openai<2.0.0,>=1.10.0 in /Users/felixjin/.pyenv/versions/3.12.2/lib/python3.12/site-packages (from langchain-openai) (1.12.0)\n",
      "Requirement already satisfied: tiktoken<1,>=0.5.2 in /Users/felixjin/.pyenv/versions/3.12.2/lib/python3.12/site-packages (from langchain-openai) (0.6.0)\n",
      "Requirement already satisfied: build>=1.0.3 in /Users/felixjin/.pyenv/versions/3.12.2/lib/python3.12/site-packages (from chromadb) (1.1.1)\n",
      "Requirement already satisfied: chroma-hnswlib==0.7.3 in /Users/felixjin/.pyenv/versions/3.12.2/lib/python3.12/site-packages (from chromadb) (0.7.3)\n",
      "Requirement already satisfied: fastapi>=0.95.2 in /Users/felixjin/.pyenv/versions/3.12.2/lib/python3.12/site-packages (from chromadb) (0.110.0)\n",
      "Requirement already satisfied: uvicorn>=0.18.3 in /Users/felixjin/.pyenv/versions/3.12.2/lib/python3.12/site-packages (from uvicorn[standard]>=0.18.3->chromadb) (0.28.0)\n",
      "Requirement already satisfied: posthog>=2.4.0 in /Users/felixjin/.pyenv/versions/3.12.2/lib/python3.12/site-packages (from chromadb) (3.5.0)\n",
      "Requirement already satisfied: typing-extensions>=4.5.0 in /Users/felixjin/.pyenv/versions/3.12.2/lib/python3.12/site-packages (from chromadb) (4.9.0)\n",
      "Requirement already satisfied: pulsar-client>=3.1.0 in /Users/felixjin/.pyenv/versions/3.12.2/lib/python3.12/site-packages (from chromadb) (3.4.0)\n",
      "Requirement already satisfied: onnxruntime>=1.14.1 in /Users/felixjin/.pyenv/versions/3.12.2/lib/python3.12/site-packages (from chromadb) (1.17.1)\n",
      "Requirement already satisfied: opentelemetry-api>=1.2.0 in /Users/felixjin/.pyenv/versions/3.12.2/lib/python3.12/site-packages (from chromadb) (1.23.0)\n",
      "Requirement already satisfied: opentelemetry-exporter-otlp-proto-grpc>=1.2.0 in /Users/felixjin/.pyenv/versions/3.12.2/lib/python3.12/site-packages (from chromadb) (1.23.0)\n",
      "Requirement already satisfied: opentelemetry-instrumentation-fastapi>=0.41b0 in /Users/felixjin/.pyenv/versions/3.12.2/lib/python3.12/site-packages (from chromadb) (0.44b0)\n",
      "Requirement already satisfied: opentelemetry-sdk>=1.2.0 in /Users/felixjin/.pyenv/versions/3.12.2/lib/python3.12/site-packages (from chromadb) (1.23.0)\n",
      "Requirement already satisfied: tokenizers>=0.13.2 in /Users/felixjin/.pyenv/versions/3.12.2/lib/python3.12/site-packages (from chromadb) (0.15.2)\n",
      "Requirement already satisfied: pypika>=0.48.9 in /Users/felixjin/.pyenv/versions/3.12.2/lib/python3.12/site-packages (from chromadb) (0.48.9)\n",
      "Requirement already satisfied: tqdm>=4.65.0 in /Users/felixjin/.pyenv/versions/3.12.2/lib/python3.12/site-packages (from chromadb) (4.66.2)\n",
      "Requirement already satisfied: overrides>=7.3.1 in /Users/felixjin/.pyenv/versions/3.12.2/lib/python3.12/site-packages (from chromadb) (7.7.0)\n",
      "Requirement already satisfied: importlib-resources in /Users/felixjin/.pyenv/versions/3.12.2/lib/python3.12/site-packages (from chromadb) (6.3.0)\n",
      "Requirement already satisfied: grpcio>=1.58.0 in /Users/felixjin/.pyenv/versions/3.12.2/lib/python3.12/site-packages (from chromadb) (1.62.1)\n",
      "Requirement already satisfied: bcrypt>=4.0.1 in /Users/felixjin/.pyenv/versions/3.12.2/lib/python3.12/site-packages (from chromadb) (4.1.2)\n",
      "Requirement already satisfied: typer>=0.9.0 in /Users/felixjin/.pyenv/versions/3.12.2/lib/python3.12/site-packages (from chromadb) (0.9.0)\n",
      "Requirement already satisfied: kubernetes>=28.1.0 in /Users/felixjin/.pyenv/versions/3.12.2/lib/python3.12/site-packages (from chromadb) (29.0.0)\n",
      "Requirement already satisfied: mmh3>=4.0.1 in /Users/felixjin/.pyenv/versions/3.12.2/lib/python3.12/site-packages (from chromadb) (4.1.0)\n",
      "Requirement already satisfied: orjson>=3.9.12 in /Users/felixjin/.pyenv/versions/3.12.2/lib/python3.12/site-packages (from chromadb) (3.9.14)\n",
      "Requirement already satisfied: beautifulsoup4 in /Users/felixjin/.pyenv/versions/3.12.2/lib/python3.12/site-packages (from bs4) (4.12.3)\n",
      "Requirement already satisfied: aiosignal>=1.1.2 in /Users/felixjin/.pyenv/versions/3.12.2/lib/python3.12/site-packages (from aiohttp<4.0.0,>=3.8.3->langchain) (1.3.1)\n",
      "Requirement already satisfied: attrs>=17.3.0 in /Users/felixjin/.pyenv/versions/3.12.2/lib/python3.12/site-packages (from aiohttp<4.0.0,>=3.8.3->langchain) (23.2.0)\n",
      "Requirement already satisfied: frozenlist>=1.1.1 in /Users/felixjin/.pyenv/versions/3.12.2/lib/python3.12/site-packages (from aiohttp<4.0.0,>=3.8.3->langchain) (1.4.1)\n",
      "Requirement already satisfied: multidict<7.0,>=4.5 in /Users/felixjin/.pyenv/versions/3.12.2/lib/python3.12/site-packages (from aiohttp<4.0.0,>=3.8.3->langchain) (6.0.5)\n",
      "Requirement already satisfied: yarl<2.0,>=1.0 in /Users/felixjin/.pyenv/versions/3.12.2/lib/python3.12/site-packages (from aiohttp<4.0.0,>=3.8.3->langchain) (1.9.4)\n",
      "Requirement already satisfied: packaging>=19.0 in /Users/felixjin/.pyenv/versions/3.12.2/lib/python3.12/site-packages (from build>=1.0.3->chromadb) (23.2)\n",
      "Requirement already satisfied: pyproject_hooks in /Users/felixjin/.pyenv/versions/3.12.2/lib/python3.12/site-packages (from build>=1.0.3->chromadb) (1.0.0)\n",
      "Requirement already satisfied: marshmallow<4.0.0,>=3.18.0 in /Users/felixjin/.pyenv/versions/3.12.2/lib/python3.12/site-packages (from dataclasses-json<0.7,>=0.5.7->langchain) (3.20.2)\n",
      "Requirement already satisfied: typing-inspect<1,>=0.4.0 in /Users/felixjin/.pyenv/versions/3.12.2/lib/python3.12/site-packages (from dataclasses-json<0.7,>=0.5.7->langchain) (0.9.0)\n",
      "Requirement already satisfied: starlette<0.37.0,>=0.36.3 in /Users/felixjin/.pyenv/versions/3.12.2/lib/python3.12/site-packages (from fastapi>=0.95.2->chromadb) (0.36.3)\n",
      "Requirement already satisfied: jsonpointer>=1.9 in /Users/felixjin/.pyenv/versions/3.12.2/lib/python3.12/site-packages (from jsonpatch<2.0,>=1.33->langchain) (2.4)\n",
      "Requirement already satisfied: certifi>=14.05.14 in /Users/felixjin/.pyenv/versions/3.12.2/lib/python3.12/site-packages (from kubernetes>=28.1.0->chromadb) (2024.2.2)\n",
      "Requirement already satisfied: six>=1.9.0 in /Users/felixjin/.pyenv/versions/3.12.2/lib/python3.12/site-packages (from kubernetes>=28.1.0->chromadb) (1.16.0)\n",
      "Requirement already satisfied: python-dateutil>=2.5.3 in /Users/felixjin/.pyenv/versions/3.12.2/lib/python3.12/site-packages (from kubernetes>=28.1.0->chromadb) (2.8.2)\n",
      "Requirement already satisfied: google-auth>=1.0.1 in /Users/felixjin/.pyenv/versions/3.12.2/lib/python3.12/site-packages (from kubernetes>=28.1.0->chromadb) (2.28.1)\n",
      "Requirement already satisfied: websocket-client!=0.40.0,!=0.41.*,!=0.42.*,>=0.32.0 in /Users/felixjin/.pyenv/versions/3.12.2/lib/python3.12/site-packages (from kubernetes>=28.1.0->chromadb) (1.7.0)\n",
      "Requirement already satisfied: requests-oauthlib in /Users/felixjin/.pyenv/versions/3.12.2/lib/python3.12/site-packages (from kubernetes>=28.1.0->chromadb) (1.3.1)\n",
      "Requirement already satisfied: oauthlib>=3.2.2 in /Users/felixjin/.pyenv/versions/3.12.2/lib/python3.12/site-packages (from kubernetes>=28.1.0->chromadb) (3.2.2)\n",
      "Requirement already satisfied: urllib3>=1.24.2 in /Users/felixjin/.pyenv/versions/3.12.2/lib/python3.12/site-packages (from kubernetes>=28.1.0->chromadb) (2.2.1)\n",
      "Requirement already satisfied: anyio<5,>=3 in /Users/felixjin/.pyenv/versions/3.12.2/lib/python3.12/site-packages (from langchain-core<0.2,>=0.1.22->langchain) (4.2.0)\n",
      "INFO: pip is looking at multiple versions of langchain-core to determine which version is compatible with other requirements. This could take a while.\n",
      "Collecting langchain-core<0.2,>=0.1.22 (from langchain)\n",
      "  Downloading https://pypi.tuna.tsinghua.edu.cn/packages/93/fa/a671529ad3932c8e8da0ab3443ac7b9989e7fb622e78bcd7051581a93209/langchain_core-0.1.31-py3-none-any.whl (258 kB)\n",
      "\u001b[2K     \u001b[90m━━━━━━━━━━━━━━━━━━━━━━━━━━━━━━━━━━━━━━━\u001b[0m \u001b[32m258.8/258.8 kB\u001b[0m \u001b[31m2.5 MB/s\u001b[0m eta \u001b[36m0:00:00\u001b[0ma \u001b[36m0:00:01\u001b[0m\n",
      "\u001b[?25h  Downloading https://pypi.tuna.tsinghua.edu.cn/packages/53/b3/ae022560a8b104525b4ac1a97a557e3aa05dd0d233bb5284f7c63509742f/langchain_core-0.1.30-py3-none-any.whl (256 kB)\n",
      "\u001b[2K     \u001b[90m━━━━━━━━━━━━━━━━━━━━━━━━━━━━━━━━━━━━━━━\u001b[0m \u001b[32m256.9/256.9 kB\u001b[0m \u001b[31m5.5 MB/s\u001b[0m eta \u001b[36m0:00:00\u001b[0ma \u001b[36m0:00:01\u001b[0m\n",
      "\u001b[?25h  Downloading https://pypi.tuna.tsinghua.edu.cn/packages/7e/e6/f3b22fc973610466b0b6cc2c15a65a4b706bc687975bbd96ddeb800bb54b/langchain_core-0.1.29-py3-none-any.whl (252 kB)\n",
      "\u001b[2K     \u001b[90m━━━━━━━━━━━━━━━━━━━━━━━━━━━━━━━━━━━━━━━\u001b[0m \u001b[32m252.6/252.6 kB\u001b[0m \u001b[31m4.8 MB/s\u001b[0m eta \u001b[36m0:00:00\u001b[0ma \u001b[36m0:00:01\u001b[0m\n",
      "\u001b[?25h  Downloading https://pypi.tuna.tsinghua.edu.cn/packages/f4/55/c1b8fff498cfd7939491ea6c2322c4187da5fb2b3baf52fe4688775a50b0/langchain_core-0.1.28-py3-none-any.whl (252 kB)\n",
      "\u001b[2K     \u001b[90m━━━━━━━━━━━━━━━━━━━━━━━━━━━━━━━━━━━━━━━\u001b[0m \u001b[32m252.4/252.4 kB\u001b[0m \u001b[31m5.5 MB/s\u001b[0m eta \u001b[36m0:00:00\u001b[0ma \u001b[36m0:00:01\u001b[0m\n",
      "\u001b[?25h  Downloading https://pypi.tuna.tsinghua.edu.cn/packages/51/df/b5906fd60bac8d7f9010b17aeabab6beee11a5e9f69b75d0c3d03da7c1ca/langchain_core-0.1.27-py3-none-any.whl (250 kB)\n",
      "\u001b[2K     \u001b[90m━━━━━━━━━━━━━━━━━━━━━━━━━━━━━━━━━━━━━━━\u001b[0m \u001b[32m250.8/250.8 kB\u001b[0m \u001b[31m1.2 MB/s\u001b[0m eta \u001b[36m0:00:00\u001b[0ma \u001b[36m0:00:01\u001b[0m\n",
      "\u001b[?25h  Downloading https://pypi.tuna.tsinghua.edu.cn/packages/27/a0/6cd072db5ff0dec6b080575c0d976fc1bf22063d131f038496c650db7b84/langchain_core-0.1.26-py3-none-any.whl (246 kB)\n",
      "\u001b[2K     \u001b[90m━━━━━━━━━━━━━━━━━━━━━━━━━━━━━━━━━━━━━━━\u001b[0m \u001b[32m246.4/246.4 kB\u001b[0m \u001b[31m1.6 MB/s\u001b[0m eta \u001b[36m0:00:00\u001b[0ma \u001b[36m0:00:01\u001b[0m\n",
      "\u001b[?25h  Downloading https://pypi.tuna.tsinghua.edu.cn/packages/8c/ed/76c8e2451418b2169fc0d52d3fe9bf63bcaa24bac3f32b27692b9d22ec23/langchain_core-0.1.25-py3-none-any.whl (242 kB)\n",
      "\u001b[2K     \u001b[90m━━━━━━━━━━━━━━━━━━━━━━━━━━━━━━━━━━━━━━━\u001b[0m \u001b[32m242.1/242.1 kB\u001b[0m \u001b[31m1.4 MB/s\u001b[0m eta \u001b[36m0:00:00\u001b[0ma \u001b[36m0:00:01\u001b[0m\n",
      "\u001b[?25hINFO: pip is still looking at multiple versions of langchain-core to determine which version is compatible with other requirements. This could take a while.\n",
      "  Downloading https://pypi.tuna.tsinghua.edu.cn/packages/a4/cc/ff9b7afd637d44a3e33d14d37b6fabd80638702aa0c0afe6f47d3b28cbfd/langchain_core-0.1.24-py3-none-any.whl (241 kB)\n",
      "\u001b[2K     \u001b[90m━━━━━━━━━━━━━━━━━━━━━━━━━━━━━━━━━━━━━━━\u001b[0m \u001b[32m241.3/241.3 kB\u001b[0m \u001b[31m1.9 MB/s\u001b[0m eta \u001b[36m0:00:00\u001b[0ma \u001b[36m0:00:01\u001b[0m\n",
      "\u001b[?25h  Using cached https://pypi.tuna.tsinghua.edu.cn/packages/b1/e9/7e624fe4a7619821331ad2e943fbfc2eab7465cf97ee95158c435a276d3e/langchain_core-0.1.23-py3-none-any.whl (241 kB)\n",
      "Collecting langsmith<0.1,>=0.0.83 (from langchain)\n",
      "  Using cached https://pypi.tuna.tsinghua.edu.cn/packages/94/99/762b50b229516dd133e09c16213736b88d50d75e262b976e20cc244280ed/langsmith-0.0.87-py3-none-any.whl (55 kB)\n",
      "Requirement already satisfied: coloredlogs in /Users/felixjin/.pyenv/versions/3.12.2/lib/python3.12/site-packages (from onnxruntime>=1.14.1->chromadb) (15.0.1)\n",
      "Requirement already satisfied: flatbuffers in /Users/felixjin/.pyenv/versions/3.12.2/lib/python3.12/site-packages (from onnxruntime>=1.14.1->chromadb) (24.3.7)\n",
      "Requirement already satisfied: protobuf in /Users/felixjin/.pyenv/versions/3.12.2/lib/python3.12/site-packages (from onnxruntime>=1.14.1->chromadb) (4.25.3)\n",
      "Requirement already satisfied: sympy in /Users/felixjin/.pyenv/versions/3.12.2/lib/python3.12/site-packages (from onnxruntime>=1.14.1->chromadb) (1.12)\n",
      "Requirement already satisfied: distro<2,>=1.7.0 in /Users/felixjin/.pyenv/versions/3.12.2/lib/python3.12/site-packages (from openai<2.0.0,>=1.10.0->langchain-openai) (1.9.0)\n",
      "Requirement already satisfied: httpx<1,>=0.23.0 in /Users/felixjin/.pyenv/versions/3.12.2/lib/python3.12/site-packages (from openai<2.0.0,>=1.10.0->langchain-openai) (0.26.0)\n",
      "Requirement already satisfied: sniffio in /Users/felixjin/.pyenv/versions/3.12.2/lib/python3.12/site-packages (from openai<2.0.0,>=1.10.0->langchain-openai) (1.3.0)\n",
      "Requirement already satisfied: deprecated>=1.2.6 in /Users/felixjin/.pyenv/versions/3.12.2/lib/python3.12/site-packages (from opentelemetry-api>=1.2.0->chromadb) (1.2.14)\n",
      "Requirement already satisfied: importlib-metadata<7.0,>=6.0 in /Users/felixjin/.pyenv/versions/3.12.2/lib/python3.12/site-packages (from opentelemetry-api>=1.2.0->chromadb) (6.11.0)\n",
      "Requirement already satisfied: googleapis-common-protos~=1.52 in /Users/felixjin/.pyenv/versions/3.12.2/lib/python3.12/site-packages (from opentelemetry-exporter-otlp-proto-grpc>=1.2.0->chromadb) (1.63.0)\n",
      "Requirement already satisfied: opentelemetry-exporter-otlp-proto-common==1.23.0 in /Users/felixjin/.pyenv/versions/3.12.2/lib/python3.12/site-packages (from opentelemetry-exporter-otlp-proto-grpc>=1.2.0->chromadb) (1.23.0)\n",
      "Requirement already satisfied: opentelemetry-proto==1.23.0 in /Users/felixjin/.pyenv/versions/3.12.2/lib/python3.12/site-packages (from opentelemetry-exporter-otlp-proto-grpc>=1.2.0->chromadb) (1.23.0)\n",
      "Requirement already satisfied: opentelemetry-instrumentation-asgi==0.44b0 in /Users/felixjin/.pyenv/versions/3.12.2/lib/python3.12/site-packages (from opentelemetry-instrumentation-fastapi>=0.41b0->chromadb) (0.44b0)\n",
      "Requirement already satisfied: opentelemetry-instrumentation==0.44b0 in /Users/felixjin/.pyenv/versions/3.12.2/lib/python3.12/site-packages (from opentelemetry-instrumentation-fastapi>=0.41b0->chromadb) (0.44b0)\n",
      "Requirement already satisfied: opentelemetry-semantic-conventions==0.44b0 in /Users/felixjin/.pyenv/versions/3.12.2/lib/python3.12/site-packages (from opentelemetry-instrumentation-fastapi>=0.41b0->chromadb) (0.44b0)\n",
      "Requirement already satisfied: opentelemetry-util-http==0.44b0 in /Users/felixjin/.pyenv/versions/3.12.2/lib/python3.12/site-packages (from opentelemetry-instrumentation-fastapi>=0.41b0->chromadb) (0.44b0)\n",
      "Requirement already satisfied: setuptools>=16.0 in /Users/felixjin/.pyenv/versions/3.12.2/lib/python3.12/site-packages (from opentelemetry-instrumentation==0.44b0->opentelemetry-instrumentation-fastapi>=0.41b0->chromadb) (69.2.0)\n",
      "Requirement already satisfied: wrapt<2.0.0,>=1.0.0 in /Users/felixjin/.pyenv/versions/3.12.2/lib/python3.12/site-packages (from opentelemetry-instrumentation==0.44b0->opentelemetry-instrumentation-fastapi>=0.41b0->chromadb) (1.16.0)\n",
      "Requirement already satisfied: asgiref~=3.0 in /Users/felixjin/.pyenv/versions/3.12.2/lib/python3.12/site-packages (from opentelemetry-instrumentation-asgi==0.44b0->opentelemetry-instrumentation-fastapi>=0.41b0->chromadb) (3.7.2)\n",
      "Requirement already satisfied: monotonic>=1.5 in /Users/felixjin/.pyenv/versions/3.12.2/lib/python3.12/site-packages (from posthog>=2.4.0->chromadb) (1.6)\n",
      "Requirement already satisfied: backoff>=1.10.0 in /Users/felixjin/.pyenv/versions/3.12.2/lib/python3.12/site-packages (from posthog>=2.4.0->chromadb) (2.2.1)\n",
      "Requirement already satisfied: charset-normalizer<4,>=2 in /Users/felixjin/.pyenv/versions/3.12.2/lib/python3.12/site-packages (from requests<3,>=2->langchain) (3.3.2)\n",
      "Requirement already satisfied: idna<4,>=2.5 in /Users/felixjin/.pyenv/versions/3.12.2/lib/python3.12/site-packages (from requests<3,>=2->langchain) (3.6)\n",
      "Requirement already satisfied: regex>=2022.1.18 in /Users/felixjin/.pyenv/versions/3.12.2/lib/python3.12/site-packages (from tiktoken<1,>=0.5.2->langchain-openai) (2023.12.25)\n",
      "Requirement already satisfied: huggingface_hub<1.0,>=0.16.4 in /Users/felixjin/.pyenv/versions/3.12.2/lib/python3.12/site-packages (from tokenizers>=0.13.2->chromadb) (0.21.4)\n",
      "Requirement already satisfied: click<9.0.0,>=7.1.1 in /Users/felixjin/.pyenv/versions/3.12.2/lib/python3.12/site-packages (from typer>=0.9.0->chromadb) (8.1.7)\n",
      "Requirement already satisfied: h11>=0.8 in /Users/felixjin/.pyenv/versions/3.12.2/lib/python3.12/site-packages (from uvicorn>=0.18.3->uvicorn[standard]>=0.18.3->chromadb) (0.14.0)\n",
      "Requirement already satisfied: httptools>=0.5.0 in /Users/felixjin/.pyenv/versions/3.12.2/lib/python3.12/site-packages (from uvicorn[standard]>=0.18.3->chromadb) (0.6.1)\n",
      "Requirement already satisfied: python-dotenv>=0.13 in /Users/felixjin/.pyenv/versions/3.12.2/lib/python3.12/site-packages (from uvicorn[standard]>=0.18.3->chromadb) (1.0.1)\n",
      "Requirement already satisfied: uvloop!=0.15.0,!=0.15.1,>=0.14.0 in /Users/felixjin/.pyenv/versions/3.12.2/lib/python3.12/site-packages (from uvicorn[standard]>=0.18.3->chromadb) (0.19.0)\n",
      "Requirement already satisfied: watchfiles>=0.13 in /Users/felixjin/.pyenv/versions/3.12.2/lib/python3.12/site-packages (from uvicorn[standard]>=0.18.3->chromadb) (0.21.0)\n",
      "Requirement already satisfied: websockets>=10.4 in /Users/felixjin/.pyenv/versions/3.12.2/lib/python3.12/site-packages (from uvicorn[standard]>=0.18.3->chromadb) (12.0)\n",
      "Requirement already satisfied: soupsieve>1.2 in /Users/felixjin/.pyenv/versions/3.12.2/lib/python3.12/site-packages (from beautifulsoup4->bs4) (2.5)\n",
      "Requirement already satisfied: cachetools<6.0,>=2.0.0 in /Users/felixjin/.pyenv/versions/3.12.2/lib/python3.12/site-packages (from google-auth>=1.0.1->kubernetes>=28.1.0->chromadb) (5.3.3)\n",
      "Requirement already satisfied: pyasn1-modules>=0.2.1 in /Users/felixjin/.pyenv/versions/3.12.2/lib/python3.12/site-packages (from google-auth>=1.0.1->kubernetes>=28.1.0->chromadb) (0.3.0)\n",
      "Requirement already satisfied: rsa<5,>=3.1.4 in /Users/felixjin/.pyenv/versions/3.12.2/lib/python3.12/site-packages (from google-auth>=1.0.1->kubernetes>=28.1.0->chromadb) (4.9)\n",
      "Requirement already satisfied: httpcore==1.* in /Users/felixjin/.pyenv/versions/3.12.2/lib/python3.12/site-packages (from httpx<1,>=0.23.0->openai<2.0.0,>=1.10.0->langchain-openai) (1.0.3)\n",
      "Requirement already satisfied: filelock in /Users/felixjin/.pyenv/versions/3.12.2/lib/python3.12/site-packages (from huggingface_hub<1.0,>=0.16.4->tokenizers>=0.13.2->chromadb) (3.13.1)\n",
      "Requirement already satisfied: fsspec>=2023.5.0 in /Users/felixjin/.pyenv/versions/3.12.2/lib/python3.12/site-packages (from huggingface_hub<1.0,>=0.16.4->tokenizers>=0.13.2->chromadb) (2024.3.0)\n",
      "Requirement already satisfied: zipp>=0.5 in /Users/felixjin/.pyenv/versions/3.12.2/lib/python3.12/site-packages (from importlib-metadata<7.0,>=6.0->opentelemetry-api>=1.2.0->chromadb) (3.18.1)\n",
      "Requirement already satisfied: mypy-extensions>=0.3.0 in /Users/felixjin/.pyenv/versions/3.12.2/lib/python3.12/site-packages (from typing-inspect<1,>=0.4.0->dataclasses-json<0.7,>=0.5.7->langchain) (1.0.0)\n",
      "Requirement already satisfied: humanfriendly>=9.1 in /Users/felixjin/.pyenv/versions/3.12.2/lib/python3.12/site-packages (from coloredlogs->onnxruntime>=1.14.1->chromadb) (10.0)\n",
      "Requirement already satisfied: mpmath>=0.19 in /Users/felixjin/.pyenv/versions/3.12.2/lib/python3.12/site-packages (from sympy->onnxruntime>=1.14.1->chromadb) (1.3.0)\n",
      "Requirement already satisfied: pyasn1<0.6.0,>=0.4.6 in /Users/felixjin/.pyenv/versions/3.12.2/lib/python3.12/site-packages (from pyasn1-modules>=0.2.1->google-auth>=1.0.1->kubernetes>=28.1.0->chromadb) (0.5.1)\n",
      "Installing collected packages: langsmith, langchain-core\n",
      "  Attempting uninstall: langsmith\n",
      "    Found existing installation: langsmith 0.1.27\n",
      "    Uninstalling langsmith-0.1.27:\n",
      "      Successfully uninstalled langsmith-0.1.27\n",
      "  Attempting uninstall: langchain-core\n",
      "    Found existing installation: langchain-core 0.1.32\n",
      "    Uninstalling langchain-core-0.1.32:\n",
      "      Successfully uninstalled langchain-core-0.1.32\n",
      "Successfully installed langchain-core-0.1.23 langsmith-0.0.87\n"
     ]
    }
   ],
   "source": [
    "!pip install  langchain langchain-community langchainhub langchain-openai chromadb bs4"
   ]
  },
  {
   "cell_type": "code",
   "execution_count": 3,
   "id": "7b93d0e8",
   "metadata": {
    "tags": []
   },
   "outputs": [],
   "source": [
    "import bs4\n",
    "from langchain_community.document_loaders import WebBaseLoader\n",
    "from langchain_community.vectorstores import Chroma\n",
    "from langchain_core.output_parsers import StrOutputParser\n",
    "from langchain_core.runnables import RunnablePassthrough\n",
    "from langchain_openai import AzureChatOpenAI, AzureOpenAIEmbeddings\n",
    "from langchain.text_splitter import RecursiveCharacterTextSplitter\n",
    "from langchain_core.prompts import PromptTemplate\n",
    "# from langchain.prompts import ChatPromptTemplate\n",
    "\n"
   ]
  },
  {
   "cell_type": "code",
   "execution_count": 4,
   "id": "53ee5722",
   "metadata": {},
   "outputs": [],
   "source": [
    "import os\n",
    "\n",
    "from dotenv import load_dotenv, find_dotenv\n",
    "_ = load_dotenv(find_dotenv()) # read local .env file"
   ]
  },
  {
   "cell_type": "code",
   "execution_count": 5,
   "id": "7aadd5c1",
   "metadata": {
    "tags": []
   },
   "outputs": [],
   "source": [
    "llm = AzureChatOpenAI(temperature=0.0, openai_api_version=\"2023-12-01-preview\", azure_deployment=\"gpt-35-turbo-felix\", openai_api_key=os.getenv(\"AZURE_OPENAI_KEY\"))\n",
    "embeddings = AzureOpenAIEmbeddings(\n",
    "    azure_deployment=\"text-embedding-ada-002-felix\",\n",
    "    openai_api_version=\"2023-12-01-preview\",\n",
    ")"
   ]
  },
  {
   "cell_type": "code",
   "execution_count": 7,
   "id": "408c5a01",
   "metadata": {},
   "outputs": [],
   "source": [
    "template = \"\"\"使用以下内容回答最后的问题。请使用中文回答\n",
    "如果你不知道答案，就说你不知道，不要试图编造答案。\n",
    "最多使用三句话，并尽可能简明扼要。\n",
    "总是在回答的最后说“谢谢你的提问！”\n",
    "\n",
    "{context}\n",
    "\n",
    "问题是: {question}\n",
    "\n",
    "有用的回答:\"\"\"\n",
    "custom_rag_prompt = PromptTemplate.from_template(template)"
   ]
  },
  {
   "cell_type": "code",
   "execution_count": 8,
   "id": "394924ac",
   "metadata": {
    "tags": []
   },
   "outputs": [
    {
     "data": {
      "text/plain": [
       "[Document(page_content='C919龙年首飞，乘务长带着自豪感迎接双向客流2月10日早上8时15分，东航MU9197航班从上海虹桥机场起飞，飞往成都天府机场。这是国产大飞机C919的龙年首飞。“今天是大年初一，是中国传统的新春佳节。 在这个喜庆祥和的节日里，我们全体机组成员向您致以最诚挚的问候……”飞机上，乘务长娄颖雯开始播报。今年是C919首次服务春运。目前已经投运的C919飞机共有四架，都属于东航，分别在京沪、沪蓉航线执飞。娄颖雯介绍，龙年首个航班，C919飞机客座率超过九成，大多是举家出行的旅客，有的带着小孩，有的带着老人。不少旅客第一次乘坐国产大飞机，激动的情绪难以掩饰。有老人感慨：“没想到有生之年可以乘坐中国自己造的大飞机。”小朋友们也十分兴奋，因为大年初一，等飞机平飞后，每个C919航班上都会举行“龙腾闹新春”活动。乘务组会给旅客发福袋、玩偶等，并为他们拍照留念。此外，龙年到了，C919飞机上的餐食也别具一格。龙造型的“小笼包”和甜品让旅客直呼用心。而红豆味的大白兔牛奶又充满上海特色，让旅客印象深刻。娄颖雯是第一批C919乘务员，2023年5月28日，东航首架C919进行商业首飞时，她就在飞机上。“以前飞的都是波音和空客，现在能飞自己国家的飞机，确实很幸运，也感到很自豪。”她还记得自己曾询问父亲的意见，父亲说：“去吧，我支持你。”这也让她充满了力量。自C919开始执飞商业航班以来，几乎每天都会有旅客问“这是首架飞机吗？”“国产大飞机有什么特色？”这时，娄颖雯就会情不自禁地介绍起来。“你可以看航班号，C919A是首架飞机，机身上有首架机的印章。C919的过道比波音、空客宽，并且客舱三个座位中间的那个座位，比两边座位宽1.5厘米，坐在中间也挺舒适。此外，飞机的氛围灯会根据不同场景切换，在迎送客时会选用彩虹灯；洗手间水温有8档调温；2.25米的过道高度也比一般飞机高……”当天，娄颖雯飞抵成都后，又跟随后续的C919航班飞回上海。在回程航班上，飞机客座率依然超过九成。“C919的客座率一直都很高，大家都希望打卡。此外，2023年以来，一个明显的趋势是，双向出行的旅游客流量很大，不像以前许多线路只有去程人多、返程人少。”娄颖雯说。新年的C919，见证了中国旅游经济的活力。栏目主编：李晔本文作者：王力题图来源：采访对象提供图片来源：采访对象提供', metadata={'source': 'https://export.shobserver.com/baijiahao/html/715336.html'})]"
      ]
     },
     "execution_count": 8,
     "metadata": {},
     "output_type": "execute_result"
    }
   ],
   "source": [
    "# Load, chunk and index the contents of the blog.\n",
    "loader = WebBaseLoader(\n",
    "    web_paths=(\"https://export.shobserver.com/baijiahao/html/715336.html\",),\n",
    "    bs_kwargs=dict(\n",
    "        parse_only=bs4.SoupStrainer(\n",
    "            class_=(\"titleFont\", \"contentFont\")\n",
    "        )\n",
    "    ),\n",
    ")\n",
    "docs = loader.load()\n",
    "docs\n"
   ]
  },
  {
   "cell_type": "code",
   "execution_count": 9,
   "id": "24cfc33e",
   "metadata": {},
   "outputs": [
    {
     "data": {
      "text/plain": [
       "[Document(page_content='C919龙年首飞，乘务长带着自豪感迎接双向客流2月10日早上8时15分，东航MU9197航班从上海虹桥机场起飞，飞往成都天府机场。这是国产大飞机C919的龙年首飞。“今天是大年初一，是中国传统的新春佳节。 在这个喜庆祥和的节日里，我们全体机组成员向您致以最诚挚的问候……”飞机上，乘务长娄颖雯开始播报。今年是C919首次服务春运。目前已经投运的C919飞机共有四架，都属于东航，分别在京沪、沪蓉航线执飞。娄颖雯介绍，龙年首个航班，C919飞机客座率超过九成，大多是举家出行的旅客，有的带着小孩，有的带着老人。不少旅客第一次乘坐国产大飞机，激动的情绪难以掩饰。有老人感慨：“没想到有生之年可以乘坐中国自己造的大飞机。”小朋友们也十分兴奋，因为大年初一，等飞机平飞后，每个C919航班上都会举行“龙腾闹新春”活动。乘务组会给旅客发福袋、玩偶等，并为他们拍照留念。此外，龙年到了，C919飞机上的餐食也别具一格。龙造型的“小笼包”和甜品让旅客直呼用心。而红豆味的大白兔牛奶又充满上海特色，让旅客印象深刻。娄颖雯是第一批C919乘务员，2023年5月28日，东航首架C919进行商业首飞时，她就在飞机上。“以前飞的都是波音和空客，现在能飞自己国家的飞机，确实很幸运，也感到很自豪。”她还记得自己曾询问父亲的意见，父亲说：“去吧，我支持你。”这也让她充满了力量。自C919开始执飞商业航班以来，几乎每天都会有旅客问“这是首架飞机吗？”“国产大飞机有什么特色？”这时，娄颖雯就会情不自禁地介绍起来。“你可以看航班号，C919A是首架飞机，机身上有首架机的印章。C919的过道比波音、空客宽，并且客舱三个座位中间的那个座位，比两边座位宽1.5厘米，坐在中间也挺舒适。此外，飞机的氛围灯会根据不同场景切换，在迎送客时会选用彩虹灯；洗手间水温有8档调温；2.25米的过道高度也比一般飞机高……”当天，娄颖雯飞抵成都后，又跟随后续的C919航班飞回上海。在回程航班上，飞机客座率依然超过九成。“C919的客座率一直都很高，大家都希望打卡。此外，2023年以来，一个明显的趋势是，双向出行的旅游客流量很大，不像以前许多线路只有去程人多、返程人少。”娄颖雯说。新年的C919，见证了中国旅游经济的活力。栏目主编：李晔本文作者：王力题图来源：采访对象提供图片来源：采访对象提供', metadata={'source': 'https://export.shobserver.com/baijiahao/html/715336.html'})]"
      ]
     },
     "execution_count": 9,
     "metadata": {},
     "output_type": "execute_result"
    }
   ],
   "source": [
    "text_splitter = RecursiveCharacterTextSplitter(chunk_size=1000, chunk_overlap=64)\n",
    "splits = text_splitter.split_documents(docs)\n",
    "\n",
    "splits\n"
   ]
  },
  {
   "cell_type": "code",
   "execution_count": 10,
   "id": "5bbe981a",
   "metadata": {},
   "outputs": [],
   "source": [
    "vectorstore = Chroma.from_documents(documents=splits, embedding=embeddings)"
   ]
  },
  {
   "cell_type": "code",
   "execution_count": 13,
   "id": "ed2002d5",
   "metadata": {},
   "outputs": [],
   "source": [
    "# Retrieve and generate using the relevant snippets of the blog.\n",
    "retriever = vectorstore.as_retriever(search_kwargus={\"k\": 2})"
   ]
  },
  {
   "cell_type": "code",
   "execution_count": 17,
   "id": "0846f610",
   "metadata": {},
   "outputs": [],
   "source": [
    "\n",
    "# prompt = hub.pull(\"rlm/rag-prompt\")\n",
    "\n",
    "\n",
    "def format_docs(docs):\n",
    "    return \"\\n\\n\".join(doc.page_content for doc in docs)\n",
    "\n",
    "\n",
    "rag_chain = (\n",
    "    {\"context\": retriever | format_docs, \"question\": RunnablePassthrough()}\n",
    "    | custom_rag_prompt\n",
    "    | llm\n",
    "    | StrOutputParser()\n",
    ")"
   ]
  },
  {
   "cell_type": "code",
   "execution_count": 12,
   "id": "02cd4956",
   "metadata": {
    "tags": []
   },
   "outputs": [
    {
     "name": "stderr",
     "output_type": "stream",
     "text": [
      "Number of requested results 4 is greater than number of elements in index 1, updating n_results = 1\n"
     ]
    },
    {
     "data": {
      "text/plain": [
       "'C919大飞机的客舱过道比波音、空客宽，并且客舱三个座位中间的那个座位比两边座位宽1.5厘米，坐在中间也挺舒适。谢谢你的提问！'"
      ]
     },
     "execution_count": 12,
     "metadata": {},
     "output_type": "execute_result"
    }
   ],
   "source": [
    "rag_chain.invoke(\"结合乘务长娄颖雯的介绍，回答C919大飞机的客舱过道有什么特点？\")"
   ]
  },
  {
   "cell_type": "code",
   "execution_count": 14,
   "id": "8bb9fa25",
   "metadata": {},
   "outputs": [
    {
     "name": "stderr",
     "output_type": "stream",
     "text": [
      "Number of requested results 4 is greater than number of elements in index 1, updating n_results = 1\n"
     ]
    },
    {
     "data": {
      "text/plain": [
       "'C919飞机上的餐食有龙造型的“小笼包”和甜品，以及红豆味的大白兔牛奶，让旅客直呼用心，充满上海特色。谢谢你的提问！'"
      ]
     },
     "execution_count": 14,
     "metadata": {},
     "output_type": "execute_result"
    }
   ],
   "source": [
    "rag_chain.invoke(\"C919飞机上的餐食有什么特点？\")"
   ]
  },
  {
   "cell_type": "code",
   "execution_count": 15,
   "id": "9432417f",
   "metadata": {},
   "outputs": [
    {
     "name": "stderr",
     "output_type": "stream",
     "text": [
      "Number of requested results 4 is greater than number of elements in index 1, updating n_results = 1\n"
     ]
    },
    {
     "data": {
      "text/plain": [
       "'娄颖雯是第一批C919乘务员，具体时间不详。谢谢你的提问！'"
      ]
     },
     "execution_count": 15,
     "metadata": {},
     "output_type": "execute_result"
    }
   ],
   "source": [
    "rag_chain.invoke(\"娄颖雯是什么时候开始在C919工作的\")"
   ]
  },
  {
   "cell_type": "code",
   "execution_count": 19,
   "id": "6b7936c1",
   "metadata": {},
   "outputs": [
    {
     "name": "stderr",
     "output_type": "stream",
     "text": [
      "Number of requested results 4 is greater than number of elements in index 1, updating n_results = 1\n"
     ]
    },
    {
     "data": {
      "text/plain": [
       "'已经投运的C919飞机共有四架。谢谢你的提问！'"
      ]
     },
     "execution_count": 19,
     "metadata": {},
     "output_type": "execute_result"
    }
   ],
   "source": [
    "rag_chain.invoke(\"已经投运的C919飞机共有几架？\")"
   ]
  },
  {
   "cell_type": "code",
   "execution_count": null,
   "id": "9126cf70",
   "metadata": {},
   "outputs": [],
   "source": []
  },
  {
   "cell_type": "code",
   "execution_count": null,
   "id": "44efb27e",
   "metadata": {},
   "outputs": [],
   "source": []
  },
  {
   "cell_type": "code",
   "execution_count": null,
   "id": "246dd5a4",
   "metadata": {},
   "outputs": [],
   "source": []
  }
 ],
 "metadata": {
  "kernelspec": {
   "display_name": "Python 3 (ipykernel)",
   "language": "python",
   "name": "python3"
  },
  "language_info": {
   "codemirror_mode": {
    "name": "ipython",
    "version": 3
   },
   "file_extension": ".py",
   "mimetype": "text/x-python",
   "name": "python",
   "nbconvert_exporter": "python",
   "pygments_lexer": "ipython3",
   "version": "3.12.2"
  }
 },
 "nbformat": 4,
 "nbformat_minor": 5
}
